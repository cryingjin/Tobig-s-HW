{
 "cells": [
  {
   "cell_type": "markdown",
   "metadata": {},
   "source": [
    "## https://www.kaggle.com/amrmahmoud123/1-guide-to-ensembling-methods 요약 과제"
   ]
  },
  {
   "cell_type": "markdown",
   "metadata": {},
   "source": [
    "## Guid to Ensembling methods -1"
   ]
  },
  {
   "cell_type": "markdown",
   "metadata": {},
   "source": [
    "기본적인 앙상블 기법\n",
    "- MaxVoting\n",
    "- Averaging\n",
    "- Weighted Average\n",
    "\n",
    "Advanced Ensemble Techniques \n",
    "- Stacking\n",
    "- Blending\n",
    "- Bagging\n",
    "- Boosting\n",
    "\n",
    "베깅 및 부스팅 기반 알고리즘\n",
    "\n",
    "- Bagging meta-estimator\n",
    "- Random Forest\n",
    "- AdaBoost\n",
    "- GBM\n",
    "- XGB\n",
    "- Light GBM\n",
    "- CatBoost (처음 들어봄)\n",
    "\n"
   ]
  },
  {
   "cell_type": "markdown",
   "metadata": {},
   "source": [
    "앙상블에 대한 이해는 error에 대한 이해부터 시작된다.  \n",
    "Bias error 편향  \n",
    "Variance 분산  \n",
    "\n",
    "  \n",
    "예측값들의 집단을 앙상블이라고 하며, 앙상블 기법이라고 한다.  \n",
    "집단지성과 같음."
   ]
  },
  {
   "cell_type": "markdown",
   "metadata": {},
   "source": [
    "### 기본적인 앙상블 기법"
   ]
  },
  {
   "cell_type": "markdown",
   "metadata": {},
   "source": [
    "Max Voting  \n",
    "-> 흔히 쓰이는 투표 방식으로 다수결의 결과를 따르는 방식  \n",
    "\n",
    "Majority Voting/(Hard Voting,Soft Voting) (강의 때 배운 다수결 방법)  \n",
    "-> Hard 와 Soft 가 있고 hard가 단순히 모형의 결과를 보고 투표하는 것이고 soft가 가중치를 줘서 투표하는 방법  \n",
    "\n",
    "Max와 Majority의 차이점 : \n",
    "For voting ; majority voting and max voting is the same . it consists on choosing the class label wich have the max number of vote by classifiers ensemble; but there are other variety of voting like : vote with threshold , weighted voting baysian voting  and  unanimity voting.  \n",
    "\n",
    "Averaging  \n",
    "-> max voting 과 비슷하고 모든 값의 평균을 사용함.  \n",
    "\n",
    "Weighted Average  \n",
    "-> averaging 방법의 확정으로 가중치를 준 평균 방법. 5명 중 2가지 사람의 의견을 더 중요하게 반영하는 것을 예로 들 수 있음.  \n",
    "\n"
   ]
  },
  {
   "cell_type": "markdown",
   "metadata": {},
   "source": [
    "### Advanced Ensemble techniques"
   ]
  },
  {
   "cell_type": "markdown",
   "metadata": {},
   "source": [
    "Bagging 배깅  \n",
    "Bootstrap aggregation, \"bagging irons out variance from a data set\" 데이터를 쪼갠후 여러개의 집단(chunk)로 만들고 트레인 시키면, 예측과 다른 것을 발견할 수 있는데 이것이 데이터의 분산 (variance).  \n",
    "-> 안전성과 정확도 : 편향없이 분산도 작아질뿐만 아니라 정확도도 개선된다. 오버피팅도 피할 수 있지만, 데이터가 variance를 가지면(크면) 베깅이 잘 작동하지 않음.  \n",
    "  \n",
    "    \n",
    "베깅 알고리즘 - Bagging meta-estimator / Random forest  \n",
    "\n",
    "Bagging meta-estimator : 베깅분류와 베깅회귀문제에 사용된다.  \n",
    "베깅 옵션 (하이퍼 파라미터) 으로 base_estimator,n_estimators,max_samples,max_features,n_jobs, random_state 존재.  \n",
    "\n",
    "Random forest 랜덤포레스트  \n",
    "Random forest randomly selects data points and features, and builds multiple trees (Forest) .\n",
    "피쳐를 뽑아서 예측하고, 반복 - 가장 많이 나온 값을 최종 예측값으로 선정  \n",
    "\n",
    "베깅 옵션 (하이퍼 파라미터) 으로 \n",
    "n_estimaors,\n",
    "criterion(splitting위한 함수 지정),\n",
    "max_features,max_depth,min_samples_leaf,max_leaf_nodes,n_jobs  \n",
    "\n",
    "\n",
    "Boosting 부스팅 - weak learner를 strong learner로, 팀워크 중시, 학습을 해서 다음 모델은 어디에 집중할지 찾아내는 것이 목표\n",
    "\n",
    "AdaBoost  \n",
    "-> 결정트리가 모델로 쓰이는 모델, 순차적으로 여러가지 모델이 생성되고 각각 마지막 모델에서 오류를 찾음.  \n",
    "잘못 예측된 관측치에 가중치를 부여해서 그 다음 모델은 이러한 값을 올바르게 예측할 수 있게함(팀워크)  \n",
    "파라미터 : base_estimators,n_estimators,learning_rate(최종 조합에서 추정치의 기여도를 조정함. n_estimator와 상충됨.),max_depth,n_jobs,random_state   \n",
    "\n",
    "\n",
    "staking 스테킹, 부스팅과 비슷  \n",
    "-> 가중치에 대한 공식은 없고, 대신 meta level을 도입하거나 다른 모델이나 접근법을 사용한다. 즉 어떤 모델이 잘 수행는지, 주어진 데이터에서 무엇이 안좋은지 평가하기 위해 위와 같은 다른 접근법을 수행하는 것. \n"
   ]
  }
 ],
 "metadata": {
  "kernelspec": {
   "display_name": "Python 3",
   "language": "python",
   "name": "python3"
  },
  "language_info": {
   "codemirror_mode": {
    "name": "ipython",
    "version": 3
   },
   "file_extension": ".py",
   "mimetype": "text/x-python",
   "name": "python",
   "nbconvert_exporter": "python",
   "pygments_lexer": "ipython3",
   "version": "3.6.5"
  }
 },
 "nbformat": 4,
 "nbformat_minor": 2
}
