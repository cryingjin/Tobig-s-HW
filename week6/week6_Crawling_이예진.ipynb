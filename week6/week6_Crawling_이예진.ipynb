{
 "cells": [
  {
   "cell_type": "markdown",
   "metadata": {},
   "source": [
    "# 과제: 네이버 영화 정보 및 평점 크롤링"
   ]
  },
  {
   "cell_type": "markdown",
   "metadata": {},
   "source": [
    "- 대상: 예매순 상위 5개의 현재 상영 중인 영화\n",
    "- 수집할 항목: 영화 제목, 주연배우 3인, 네티즌 평점, 관람객 평점, 기자/평론가 평점, 관람객 별점 리뷰 20건 공감순으로(평점, 작성자닉네임, 리뷰본문)"
   ]
  },
  {
   "cell_type": "code",
   "execution_count": 1,
   "metadata": {},
   "outputs": [],
   "source": [
    "import requests\n",
    "from bs4 import BeautifulSoup\n",
    "import re"
   ]
  },
  {
   "cell_type": "markdown",
   "metadata": {},
   "source": [
    "참고\n",
    "https://sozerodev.tistory.com/112"
   ]
  },
  {
   "cell_type": "markdown",
   "metadata": {},
   "source": [
    "### 1. 예매순 상위 5개의 현재 상영 중인 영화 가져오기"
   ]
  },
  {
   "cell_type": "markdown",
   "metadata": {},
   "source": [
    "영화 제목, 주연배우 3인"
   ]
  },
  {
   "cell_type": "code",
   "execution_count": 2,
   "metadata": {},
   "outputs": [
    {
     "name": "stdout",
     "output_type": "stream",
     "text": "전도연\n정우성\n배성우\n윤여정\n정만식\n진경\n신현빈\n정가람\n==================================================\n조지 맥케이\n딘-찰스 채프먼\n==================================================\n엘리자베스 모스\n==================================================\n시얼샤 로넌\n엠마 왓슨\n플로렌스 퓨\n엘리자 스캔런\n티모시 샬라메\n==================================================\n라미란\n김무열\n나문희\n윤경호\n==================================================\n매튜 맥커너히\n휴 그랜트\n콜린 파렐\n찰리 허냄\n헨리 골딩\n미셀 도커리\n==================================================\n아담 드바인\n로즈 번\n==================================================\n하정우\n김남길\n허율\n김시아\n==================================================\n스칼렛 요한슨\n로만 그리핀 데이비스\n타이카 와이티티\n토마신 맥켄지\n==================================================\n송강호\n이선균\n조여정\n최우식\n박소담\n이정은\n장혜진\n==================================================\n저스틴 플레쳐\n아멜리아 비테일\n==================================================\n아델 하에넬\n노에미 메를랑\n루아나 바야미\n발레리아 골리노\n==================================================\n톰 쉴링\n폴라 비어\n세바스티안 코치\n==================================================\n마고 로비\n==================================================\n페넬로페 크루즈\n안토니오 반데라스\n==================================================\n짐 캐리\n제임스 마스던\n벤 슈와츠\n티카 섬터\n==================================================\n타나카 마유미\n나카이 카즈야\n오카무라 아케미\n야마구치 캇페이\n==================================================\n박혁권\n류현경\n남기애\n==================================================\n박지후\n김새벽\n==================================================\n에이쿠라 나나\n야스다 켄\n==================================================\n메멧 오즈구르\n베르카이 아테스\n==================================================\n와드 알-카팁\n사마 알-카팁\n함자 알-카팁\n==================================================\n신용우\n엄상현\n이소영\n전태열\n양정화\n==================================================\n이병헌\n이성민\n곽도원\n이희준\n김소진\n==================================================\n바르토시 비엘레니아\n==================================================\n소피 마르소\n클로드 브라소\n브리지트 포시\n==================================================\n다이고 코타로\n모리 나나\n오구리 슌\n==================================================\n나카무라 유이치\n카지 유우키\n==================================================\n레오나르도 디카프리오\n와타나베 켄\n조셉 고든 레빗\n마리옹 꼬띠아르\n엘렌 페이지\n톰 하디\n==================================================\n후쿠시마 준\n아마미야 소라\n타카하시 리에\n카야노 아이\n토요사키 아키\n==================================================\n스칼렛 요한슨\n아담 드라이버\n==================================================\n"
    },
    {
     "ename": "IndexError",
     "evalue": "list index out of range",
     "output_type": "error",
     "traceback": [
      "\u001b[1;31m---------------------------------------------------------------------------\u001b[0m",
      "\u001b[1;31mIndexError\u001b[0m                                Traceback (most recent call last)",
      "\u001b[1;32m<ipython-input-2-b7d0cf7c3aaa>\u001b[0m in \u001b[0;36m<module>\u001b[1;34m\u001b[0m\n\u001b[0;32m     40\u001b[0m \u001b[1;33m\u001b[0m\u001b[0m\n\u001b[0;32m     41\u001b[0m     \u001b[1;31m# 배우\u001b[0m\u001b[1;33m\u001b[0m\u001b[1;33m\u001b[0m\u001b[0m\n\u001b[1;32m---> 42\u001b[1;33m     \u001b[0mactor\u001b[0m \u001b[1;33m=\u001b[0m \u001b[0minfo\u001b[0m\u001b[1;33m[\u001b[0m\u001b[1;36m2\u001b[0m\u001b[1;33m]\u001b[0m\u001b[1;33m.\u001b[0m\u001b[0mselect\u001b[0m\u001b[1;33m(\u001b[0m\u001b[1;34m\"a\"\u001b[0m\u001b[1;33m)\u001b[0m\u001b[1;33m\u001b[0m\u001b[0m\n\u001b[0m\u001b[0;32m     43\u001b[0m \u001b[1;33m\u001b[0m\u001b[0m\n\u001b[0;32m     44\u001b[0m     \u001b[1;32mfor\u001b[0m \u001b[0ma\u001b[0m \u001b[1;32min\u001b[0m \u001b[0mactor\u001b[0m \u001b[1;33m:\u001b[0m\u001b[1;33m\u001b[0m\u001b[0m\n",
      "\u001b[1;31mIndexError\u001b[0m: list index out of range"
     ]
    }
   ],
   "source": [
    "# 네이버 영화 데이터 수집\n",
    " \n",
    "import requests\n",
    "from bs4 import BeautifulSoup\n",
    " \n",
    "raw = requests.get(\"https://movie.naver.com/movie/running/current.nhn\",\n",
    "                   headers = {\"User-Agent\" : \"Mozilla/5.0\"})\n",
    " \n",
    "# raw데이터를 얻어온 후, html로 파싱해주자.\n",
    "html = BeautifulSoup(raw.text, 'html.parser')\n",
    " \n",
    " \n",
    "# 컨테이너 : div.lst_wrap li\n",
    "movies = html.select(\"dl.lst_dsc\")\n",
    " \n",
    "for m in movies :\n",
    "    # 영화제목 : dt.tit a\n",
    "    title = m.select_one(\"dt.tit a\").text\n",
    " \n",
    "    # 평점 : a span.num\n",
    "    score = m.select_one(\"a span.num\").text\n",
    " \n",
    "    # 장르 : dl.lst_dsc dl.info_txt1 dd a\n",
    " \n",
    "    # 감독 : dl.lst_dsc dl.info_txt1 dd a\n",
    " \n",
    "    # 배우 : dl.lst_dsc dl.info_txt1 dd a\n",
    " \n",
    "    # select 함수를 이용하는 방법\n",
    "    '''\n",
    "    select 함수는 데이터를 리스트 형태로 저장하므로, 리스트에 저장된 데이터를 인덱싱 방법을 활용하여, 특정 순서의 데이터를 수집한다.\n",
    "    '''\n",
    "    info = m.select(\"dl.info_txt1 dd\") # 개요, 감독, 배우에 대한 데이터가 리스트 형식으로 저장될 것.\n",
    " \n",
    "    # 장르\n",
    "    genre = info[0].select(\"a\")  # 영화 하나가 하나 이상의 장르를 가질 수 있기 때문에 select_one이 아닌 리스트로 저장하는 select 함수를 쓴 .\n",
    " \n",
    "    # 감독\n",
    "    director = info[1].select(\"a\")\n",
    " \n",
    "    # 배우\n",
    "    actor = info[2].select(\"a\")\n",
    " \n",
    "    for a in actor :\n",
    "        print(a.text)\n",
    " \n",
    "    print(\"=\"*50)"
   ]
  },
  {
   "cell_type": "code",
   "execution_count": 7,
   "metadata": {},
   "outputs": [],
   "source": [
    "def movie_title_url_actor():\n",
    "    url = 'https://movie.naver.com/movie/running/current.nhn'\n",
    "    res = requests.get(url)\n",
    "    res.content.decode('utf8')\n",
    "    html = res.text\n",
    "    soup = BeautifulSoup(html,'html.parser')\n",
    "\n",
    "    # 영화 정보 전체 가져오기\n",
    "    movies = soup.select('dl.lst_dsc')\n",
    "    #print(movies)\n",
    "    titles = []      # 영화제목 리스트\n",
    "    actors = []      # 주연 3명 리스트\n",
    "    for title in soup.select('dt.tit a'):\n",
    "        titles.append(title.text)\n",
    "    \n",
    "    for actor in soup.select(\"dl.lst_dsc dl.info_txt1 dd:nth-of-type(3) a\"):\n",
    "        # 배우 : dl.lst_dsc dl.info_txt1 dd:nth-of-type(3) a\n",
    "        actors.append(actor.text)\n",
    "    print(titles[:5])\n",
    "    print(actors)\n",
    "\n",
    "\n",
    "    "
   ]
  },
  {
   "cell_type": "code",
   "execution_count": 8,
   "metadata": {},
   "outputs": [
    {
     "name": "stdout",
     "output_type": "stream",
     "text": "['지푸라기라도 잡고 싶은 짐승들', '정직한 후보', '1917', '작은 아씨들', '클로젯']\n['전도연', '정우성', '배성우', '윤여정', '정만식', '진경', '신현빈', '정가람']\n"
    }
   ],
   "source": [
    "movie_title_url_actor()"
   ]
  },
  {
   "cell_type": "code",
   "execution_count": 400,
   "metadata": {},
   "outputs": [
    {
     "name": "stdout",
     "output_type": "stream",
     "text": "['지푸라기라도 잡고 싶은 짐승들', '정직한 후보', '1917', '작은 아씨들', '클로젯', '기생충', '수퍼 소닉', '하이, 젝시', '숀더쉽 더 무비: 꼬마 외계인 룰라!', '조조 래빗', '남산의 부장들', '버즈 오브 프레이(할리 퀸의 황홀한 해방)', '극장판 미니특공대: 공룡왕 디노', '타오르는 여인의 초상', '극장판 원피스 스탬피드', '이 멋진 세계에 축복을! 붉은 전설', '작가 미상', '인셉션', '페인 앤 글로리', '사마에게', '문신을 한 신부님', '집에 돌아오면, 언제나 아내가 죽은 척을 하고 있다', '졸업', '에릭 클랩튼: 기타의 신', '기도하는 남자', '하이큐!! 땅 VS 하늘', '윤희에게', '히트맨', '피아니스트의 전설', '벌새', '포드 V 페라리', '겨울왕국 2', '카잔자키스', '날씨의 아이', '이태원', '아이리시맨', '마리오 보타 : 영혼을 위한 건축', '두 교황', '결혼 이야기', '작은 빛', '고흐, 영원의 문에서', '울지마 톤즈 2 : 슈크란 바바', '설국열차', '파바로티', '메기', '국경의 왕', '미안해요, 리키', '성혜의 나라', '위 아 리틀 좀비', '나이브스 아웃', '졸업', '경계선', '미스터 주: 사라진 VIP', '몽마르트 파파', '나이트 헌터', '82년생 김지영', '그녀에게', '기억할 만한 지나침', '녹차의 중력', '동명이인 프로젝트 시즌2', '라붐', '라스트 씬', '러브 라이브! 더 스쿨 아이돌 무비', '러브 라이브! 선샤인!! 더 스쿨 아이돌 무비 오버 더 레인보우', '백두 번째 구름', '소은이의 무릎', '신의 은총으로', '울지마 톤즈', '원스 어폰 어 타임... 인 할리우드', '이다', '조커', '킹 오브 프리즘', '킹 오브 프리즘 -샤이니 세븐 스타즈-', '킹 오브 프리즘 -샤이니 세븐 스타즈- Ⅲ 레오x유우x알렉', '킹 오브 프리즘 -샤이니 세븐 스타즈- Ⅳ 루이x신x언노운', '킹 오브 프리즘 프라이드 더 히어로', '킹 오브 프리즘-샤이니 세븐 스타즈-ⅱ카케루x조지x미나토', '프란치스코 교황: 맨 오브 히스 워드', '혼 : 공포의 시작', '미스 사이공: 25주년 특별 공연']\n['전도연', '정우성', '배성우', '윤여정', '정만식', '진경', '신현빈', '정가람']\n"
    }
   ],
   "source": [
    "movie_title_url_actor()"
   ]
  },
  {
   "cell_type": "code",
   "execution_count": 32,
   "metadata": {},
   "outputs": [],
   "source": [
    "def movie_title_url_actor2():\n",
    "    url = 'https://movie.naver.com/movie/running/current.nhn'\n",
    "    res = requests.get(url)\n",
    "    res.content.decode('utf8')\n",
    "    html = res.text\n",
    "    soup = BeautifulSoup(html,'html.parser')\n",
    "\n",
    "    # 영화 정보 전체 가져오기\n",
    "    movies = soup.select('dl.lst_dsc')\n",
    "    \n",
    "    titles = []      # 영화제목 리스트\n",
    "    actors_list = []      # 주연 3명 리스트\n",
    "    \n",
    "    for title in soup.select('dt.tit a'):\n",
    "        titles.append(title.text)\n",
    "    for m in movies:\n",
    "        info = m.select(\"dl.info_txt1 dd\")\n",
    "    actor = info[2].select('a')      # actor는 info의 2번째 리스트\n",
    "    for actors in actor :\n",
    "        actors_list.append(actors.text)\n",
    "    return(actors_list)\n",
    "    "
   ]
  },
  {
   "cell_type": "code",
   "execution_count": 33,
   "metadata": {},
   "outputs": [
    {
     "data": {
      "text/plain": "['브루노 간츠']"
     },
     "execution_count": 33,
     "metadata": {},
     "output_type": "execute_result"
    }
   ],
   "source": [
    "movie_title_url_actor2()"
   ]
  },
  {
   "cell_type": "markdown",
   "metadata": {},
   "source": [
    "두 가지 방법으로 해봤는데 배우 이름이 영화 하나에 밖에 안나옵니다.."
   ]
  },
  {
   "cell_type": "markdown",
   "metadata": {},
   "source": [
    "### 2. 해당 영화의 평점 가져오기"
   ]
  },
  {
   "cell_type": "markdown",
   "metadata": {},
   "source": [
    "네티즌 평점, 관람객 평점, 기자/평론가 평점"
   ]
  },
  {
   "cell_type": "code",
   "execution_count": 92,
   "metadata": {},
   "outputs": [],
   "source": [
    "def get_grade():\n",
    "    url = 'https://movie.naver.com/movie/bi/mi/basic.nhn?code=179181'      # 지푸라기라도 잡고 싶은 짐승들\n",
    "    res = requests.get(url)\n",
    "    res.content.decode('utf8')\n",
    "    html = res.text\n",
    "    soup = BeautifulSoup(html,'html.parser')\n",
    "\n",
    "    for grade in soup.select('div.star_score span.st_on'):\n",
    "        print(grade)\n",
    "        grades = ''\n",
    "        for number in grade.find_all('width'):\n",
    "            p = re.compile('[0-9]{2}.[0-9]{1}')\n",
    "            pp = p.findall(number)\n",
    "            grades += pp\n",
    "        print(grades)"
   ]
  },
  {
   "cell_type": "code",
   "execution_count": 91,
   "metadata": {},
   "outputs": [
    {
     "name": "stdout",
     "output_type": "stream",
     "text": "<span class=\"st_on\" style=\"width:83.4%\">관람객 평점 8.34점</span>\n\n<span class=\"st_on\" style=\"width:67.1%\"></span>\n\n<span class=\"st_on\" style=\"width:68.0%\"></span>\n\n<span class=\"st_on\" style=\"width:0%\">0점</span>\n\n<span class=\"st_on\" id=\"pointStarWide\" style=\"width:0%\"></span>\n\n<span class=\"st_on\" style=\"width:83.4%\">관람객 평점 8.34점</span>\n\n<span class=\"st_on\" style=\"width:67.1%\"></span>\n\n<span class=\"st_on\" style=\"width:68.0%\"></span>\n\n<span class=\"st_on\" style=\"width:0%\">0점</span>\n\n<span class=\"st_on\" id=\"pointStar\" style=\"width:0%\"></span>\n\n<span class=\"st_on\" style=\"width:68.0%\">평점 - 총 10점 중</span>\n\n<span class=\"st_on\" style=\"width:67.1%\">평점 - 총 10점 중</span>\n\n<span class=\"st_on\" style=\"width:100.0%\"></span>\n\n<span class=\"st_on\" style=\"width:100.0%\"></span>\n\n<span class=\"st_on\" style=\"width:100.0%\"></span>\n\n<span class=\"st_on\" style=\"width:90.0%\"></span>\n\n<span class=\"st_on\" style=\"width:10.0%\"></span>\n\n"
    }
   ],
   "source": [
    "get_grade()"
   ]
  },
  {
   "cell_type": "markdown",
   "metadata": {},
   "source": [
    "width 다음에 있는 평점이 태그안에 있어서 re가 안되는 것 같은데 뽑아내는 방법을 모르겠습니다ㅠㅠ"
   ]
  },
  {
   "cell_type": "markdown",
   "metadata": {},
   "source": [
    "### 3. 관람객 평점 공감순 20건 가져오기"
   ]
  },
  {
   "cell_type": "markdown",
   "metadata": {},
   "source": [
    "평점, 평점 작성자 닉네임, 리뷰 본문"
   ]
  },
  {
   "cell_type": "code",
   "execution_count": 79,
   "metadata": {},
   "outputs": [
    {
     "name": "stdout",
     "output_type": "stream",
     "text": "<tr>\n<th>번호</th>\n<th>감상평</th>\n<th class=\"al\"><span class=\"th_m1\">글쓴이·날짜</span></th>\n</tr>\n<tr>\n<td class=\"ac num\">16743424</td>\n<td class=\"title\">\n<a class=\"movie color_b\" href=\"?st=mcode&amp;sword=183876&amp;target=after\">시동</a>\n<div class=\"list_netizen_score\">\n<span class=\"st_off\"><span class=\"st_on\" style=\"width:40%\">별점 - 총 10점 중</span></span><em>4</em>\n</div>\n<br/>돈결제해서 봤는데 돈이아까움 \n\t\t\t\n\t\t\t\n\t\t\t\n\t\t\t\t\n\t\t\t\t\n\t\t\t\t\n\t\t\t\t<a class=\"report\" href=\"javascript:report('moon****', 's3gBiytu89oNKfY1jDLgVuXzEaUKmsBUXATRCPyP5Y8=', '돈결제해서 봤는데 돈이아까움', '16743424', 'point_after');\" style=\"color:#8F8F8F\" title=\"새 창\">신고</a>\n</td>\n<td class=\"num\"><a class=\"author\" href=\"javascript:find_list('nickname','16743424', 'after');\">moon****</a><br/>20.02.26</td>\n</tr>\n<tr>\n<td class=\"ac num\">16743423</td>\n<td class=\"title\">\n<a class=\"movie color_b\" href=\"?st=mcode&amp;sword=179399&amp;target=after\">기도하는 남자</a>\n<div class=\"list_netizen_score\">\n<span class=\"st_off\"><span class=\"st_on\" style=\"width:100%\">별점 - 총 10점 중</span></span><em>10</em>\n</div>\n<br/>나쁘지 않았습니다! 무엇보다 종교적인 문제가 아닌 모든 사람들이 공감할 수 있는 문제를 다룬 것이 좋았습니다. \n\t\t\t\n\t\t\t\n\t\t\t\n\t\t\t\t\n\t\t\t\t\n\t\t\t\t\n\t\t\t\t<a class=\"report\" href=\"javascript:report('twox****', 'YCztyiy1oZzYv/li0u2fJMVKRzrAVZY6bFZGGYOi1TY=', '나쁘지 않았습니다! 무엇보다 종교적인 문제가 아닌 모든 사람들이 공감할 수 있는 문제를 다룬 것이 좋았습니다.', '16743423', 'point_after');\" style=\"color:#8F8F8F\" title=\"새 창\">신고</a>\n</td>\n<td class=\"num\"><a class=\"author\" href=\"javascript:find_list('nickname','16743423', 'after');\">twox****</a><br/>20.02.26</td>\n</tr>\n<tr>\n<td class=\"ac num\">16743422</td>\n<td class=\"title\">\n<a class=\"movie color_b\" href=\"?st=mcode&amp;sword=189001&amp;target=after\">인비저블맨</a>\n<div class=\"list_netizen_score\">\n<span class=\"st_off\"><span class=\"st_on\" style=\"width:80%\">별점 - 총 10점 중</span></span><em>8</em>\n</div>\n<br/>반전 대박 볼만했음 무서운거잘보는 나한텐 별로안무서웠당 \n\t\t\t\n\t\t\t\n\t\t\t\n\t\t\t\t\n\t\t\t\t\n\t\t\t\t\n\t\t\t\t<a class=\"report\" href=\"javascript:report('stin****', 'hJ4Vl9a9TrcBjtUMaQcBNHiZK+mvgZientCS0NHv0Ig=', '반전 대박 볼만했음 무서운거잘보는 나한텐 별로안무서웠당', '16743422', 'point_after');\" style=\"color:#8F8F8F\" title=\"새 창\">신고</a>\n</td>\n<td class=\"num\"><a class=\"author\" href=\"javascript:find_list('nickname','16743422', 'after');\">stin****</a><br/>20.02.26</td>\n</tr>\n<tr>\n<td class=\"ac num\">16743421</td>\n<td class=\"title\">\n<a class=\"movie color_b\" href=\"?st=mcode&amp;sword=181925&amp;target=after\">클로젯</a>\n<div class=\"list_netizen_score\">\n<span class=\"st_off\"><span class=\"st_on\" style=\"width:20%\">별점 - 총 10점 중</span></span><em>2</em>\n</div>\n<br/>클로젯에 들어가 숨고싶은영화. \n\t\t\t\n\t\t\t\n\t\t\t\n\t\t\t\t\n\t\t\t\t\n\t\t\t\t\n\t\t\t\t<a class=\"report\" href=\"javascript:report('kook****', 'L4Dc9erwf1fABPRIQH+aGVzzVfDxNEdGW/3mHKDP/4g=', '클로젯에 들어가 숨고싶은영화.', '16743421', 'point_after');\" style=\"color:#8F8F8F\" title=\"새 창\">신고</a>\n</td>\n<td class=\"num\"><a class=\"author\" href=\"javascript:find_list('nickname','16743421', 'after');\">kook****</a><br/>20.02.26</td>\n</tr>\n<tr>\n<td class=\"ac num\">16743420</td>\n<td class=\"title\">\n<a class=\"movie color_b\" href=\"?st=mcode&amp;sword=186821&amp;target=after\">정직한 후보</a>\n<div class=\"list_netizen_score\">\n<span class=\"st_off\"><span class=\"st_on\" style=\"width:10%\">별점 - 총 10점 중</span></span><em>1</em>\n</div>\n<br/>진짜 최악 재미없다. 엄마랑 뛰쳐나올뻔 \n\t\t\t\n\t\t\t\n\t\t\t\n\t\t\t\t\n\t\t\t\t\n\t\t\t\t\n\t\t\t\t<a class=\"report\" href=\"javascript:report('thgm****', 'isaK2tZAGgRA+NEwkoh9lEJt76ed7OeWmwRmJairGVY=', '진짜 최악 재미없다. 엄마랑 뛰쳐나올뻔', '16743420', 'point_after');\" style=\"color:#8F8F8F\" title=\"새 창\">신고</a>\n</td>\n<td class=\"num\"><a class=\"author\" href=\"javascript:find_list('nickname','16743420', 'after');\">thgm****</a><br/>20.02.26</td>\n</tr>\n<tr>\n<td class=\"ac num\">16743419</td>\n<td class=\"title\">\n<a class=\"movie color_b\" href=\"?st=mcode&amp;sword=185838&amp;target=after\">히트맨</a>\n<div class=\"list_netizen_score\">\n<span class=\"st_off\"><span class=\"st_on\" style=\"width:20%\">별점 - 총 10점 중</span></span><em>2</em>\n</div>\n<br/>개선되지 않는 혀 짧은 연기(그것도 둘씩이나), 맥락없는 전개, 무엇보다 올드함 \n\t\t\t\n\t\t\t\n\t\t\t\n\t\t\t\t\n\t\t\t\t\n\t\t\t\t\n\t\t\t\t<a class=\"report\" href=\"javascript:report('hurc****', 'eyh58PdhTp8b56BZ9qBC86bt4iPZ4avz1qADsxAhfJE=', '개선되지 않는 혀 짧은 연기(그것도 둘씩이나), 맥락없는 전개, 무엇보다 올드함', '16743419', 'point_after');\" style=\"color:#8F8F8F\" title=\"새 창\">신고</a>\n</td>\n<td class=\"num\"><a class=\"author\" href=\"javascript:find_list('nickname','16743419', 'after');\">hurc****</a><br/>20.02.26</td>\n</tr>\n<tr>\n<td class=\"ac num\">16743418</td>\n<td class=\"title\">\n<a class=\"movie color_b\" href=\"?st=mcode&amp;sword=151728&amp;target=after\">코코</a>\n<div class=\"list_netizen_score\">\n<span class=\"st_off\"><span class=\"st_on\" style=\"width:100%\">별점 - 총 10점 중</span></span><em>10</em>\n</div>\n<br/>최고에요 역대 애니메이션중에 제일 감동적입니다ㅎ \n\t\t\t\n\t\t\t\n\t\t\t\n\t\t\t\t\n\t\t\t\t\n\t\t\t\t\n\t\t\t\t<a class=\"report\" href=\"javascript:report('dnlf****', '03p7XarjrOPuZfQjnankr9EgwJDjP33QW6Y+2pU3FLc=', '최고에요 역대 애니메이션중에 제일 감동적입니다ㅎ', '16743418', 'point_after');\" style=\"color:#8F8F8F\" title=\"새 창\">신고</a>\n</td>\n<td class=\"num\"><a class=\"author\" href=\"javascript:find_list('nickname','16743418', 'after');\">dnlf****</a><br/>20.02.26</td>\n</tr>\n<tr>\n<td class=\"ac num\">16743417</td>\n<td class=\"title\">\n<a class=\"movie color_b\" href=\"?st=mcode&amp;sword=185838&amp;target=after\">히트맨</a>\n<div class=\"list_netizen_score\">\n<span class=\"st_off\"><span class=\"st_on\" style=\"width:10%\">별점 - 총 10점 중</span></span><em>1</em>\n</div>\n<br/>영화속 초반에 나온 웹툰 댓글이 이 영화 평점 댓글입니다. \n\t\t\t\n\t\t\t\n\t\t\t\n\t\t\t\t\n\t\t\t\t\n\t\t\t\t\n\t\t\t\t<a class=\"report\" href=\"javascript:report('yunj****', 'XnKz1tskgGJzG05x9uvJhJ2HFT1jhx5bmIQCkgafyEw=', '영화속 초반에 나온 웹툰 댓글이 이 영화 평점 댓글입니다.', '16743417', 'point_after');\" style=\"color:#8F8F8F\" title=\"새 창\">신고</a>\n</td>\n<td class=\"num\"><a class=\"author\" href=\"javascript:find_list('nickname','16743417', 'after');\">yunj****</a><br/>20.02.26</td>\n</tr>\n<tr>\n<td class=\"ac num\">16743416</td>\n<td class=\"title\">\n<a class=\"movie color_b\" href=\"?st=mcode&amp;sword=151728&amp;target=after\">코코</a>\n<div class=\"list_netizen_score\">\n<span class=\"st_off\"><span class=\"st_on\" style=\"width:100%\">별점 - 총 10점 중</span></span><em>10</em>\n</div>\n<br/>Remember, Don't forget. 기억한다는 말이 이렇게 다정한 안부일 줄은 몰랐다. \n\t\t\t\n\t\t\t\n\t\t\t\n\t\t\t\t\n\t\t\t\t\n\t\t\t\t\n\t\t\t\t<a class=\"report\" href=\"javascript:report('your****', 'm1tsMvBVGp2XLlo+7yfUe08z2sV1fxJzNpScRYIIocY=', 'Remember, Don&amp;amp;#39;t forget. 기억한다는 말이 이렇게 다정한 안부일 줄은 몰랐다. ', '16743416', 'point_after');\" style=\"color:#8F8F8F\" title=\"새 창\">신고</a>\n</td>\n<td class=\"num\"><a class=\"author\" href=\"javascript:find_list('nickname','16743416', 'after');\">your****</a><br/>20.02.26</td>\n</tr>\n<tr>\n<td class=\"ac num\">16743415</td>\n<td class=\"title\">\n<a class=\"movie color_b\" href=\"?st=mcode&amp;sword=159866&amp;target=after\">닥터 두리틀</a>\n<div class=\"list_netizen_score\">\n<span class=\"st_off\"><span class=\"st_on\" style=\"width:60%\">별점 - 총 10점 중</span></span><em>6</em>\n</div>\n<br/>역시 다큐가 아닌이상 동물들도 사람처럼 표정이 있어야지~ 라이언킹보단 훨낫고 어릴적 비디오 빌려서 봤던 흑인나오던 닥터두리틀보단 별로 재미가...ㅎㅎ \n\t\t\t\n\t\t\t\n\t\t\t\n\t\t\t\t\n\t\t\t\t\n\t\t\t\t\n\t\t\t\t<a class=\"report\" href=\"javascript:report('thdg****', 'L3PWNcdKMNuSYNDrl6f4eZ7ycI1an03f8Mujs2xz/no=', '역시 다큐가 아닌이상 동물들도 사람처럼 표정이 있어야지~ 라이언킹보단 훨낫고 어릴적 비디오 빌려서 봤던 흑인나오던 닥터두리틀보단 별로 재미가...ㅎㅎ', '16743415', 'point_after');\" style=\"color:#8F8F8F\" title=\"새 창\">신고</a>\n</td>\n<td class=\"num\"><a class=\"author\" href=\"javascript:find_list('nickname','16743415', 'after');\">thdg****</a><br/>20.02.26</td>\n</tr>\n"
    }
   ],
   "source": [
    "url = 'https://movie.naver.com/movie/point/af/list.nhn'\n",
    "res = requests.get(url)\n",
    "#res.content.decode('utf8')\n",
    "html = res.text\n",
    "soup = BeautifulSoup(html,'html.parser')\n",
    "for reviews in soup.select('table.list_netizen tr'):\n",
    "    print(reviews)"
   ]
  },
  {
   "cell_type": "code",
   "execution_count": 158,
   "metadata": {},
   "outputs": [],
   "source": [
    "def get_reviews():\n",
    "    url = 'https://movie.naver.com/movie/point/af/list.nhn'\n",
    "    res = requests.get(url)\n",
    "    #res.content.decode('utf8')\n",
    "    html = res.text\n",
    "    soup = BeautifulSoup(html,'html.parser')\n",
    "\n",
    "    for titles in soup.find_all('td',class_ = 'title'):\n",
    "        title = titles.find('a')      # 영화제목에 대한 정보\n",
    "\n",
    "    for reviews in soup.select('table.list_netizen tr'):     # 작성자,평점,리뷰에 대한 정보\n",
    "        name = reviews.select('td.num a.author')\n",
    "        score = reviews.select('em')\n",
    "        comment = reviews.select('td.title br')\n",
    "\n",
    "        print('영화제목 : ', title.text)\n",
    "        for n in name:\n",
    "            print('ID : ',n.text)\n",
    "        for s in score:\n",
    "            print('평점 10점 중 : ',s.text)\n",
    "        for c in comment:\n",
    "            print('리뷰 : ',c.text)      # 리뷰는 왜 안나올까요...\n",
    "        \n",
    "        print('-'*50)\n",
    "        \n",
    "\n",
    "\n",
    "        \n",
    "\n"
   ]
  },
  {
   "cell_type": "code",
   "execution_count": 157,
   "metadata": {},
   "outputs": [
    {
     "name": "stdout",
     "output_type": "stream",
     "text": "영화제목 :  지푸라기라도 잡고 싶은 짐승들\nID :  soll****\n평점 10점 중 :  1\n리뷰 :  \n--------------------------------------------------\n영화제목 :  히트맨\nID :  soll****\n평점 10점 중 :  1\n리뷰 :  \n--------------------------------------------------\n영화제목 :  젠틀맨\nID :  soll****\n평점 10점 중 :  1\n리뷰 :  \n--------------------------------------------------\n영화제목 :  침묵\nID :  soll****\n평점 10점 중 :  1\n리뷰 :  \n--------------------------------------------------\n영화제목 :  패스트 & 퓨리어스 2\nID :  soll****\n평점 10점 중 :  1\n리뷰 :  \n--------------------------------------------------\n영화제목 :  용순\nID :  soll****\n평점 10점 중 :  1\n리뷰 :  \n--------------------------------------------------\n영화제목 :  히트맨\nID :  soll****\n평점 10점 중 :  1\n리뷰 :  \n--------------------------------------------------\n영화제목 :  분노의 질주\nID :  soll****\n평점 10점 중 :  1\n리뷰 :  \n--------------------------------------------------\n영화제목 :  파수꾼\nID :  soll****\n평점 10점 중 :  1\n리뷰 :  \n--------------------------------------------------\n영화제목 :  해치지않아\nID :  soll****\n평점 10점 중 :  1\n리뷰 :  \n--------------------------------------------------\n"
    }
   ],
   "source": [
    "get_reviews()"
   ]
  },
  {
   "cell_type": "markdown",
   "metadata": {},
   "source": [
    "### 4. 저장하기"
   ]
  },
  {
   "cell_type": "code",
   "execution_count": null,
   "metadata": {},
   "outputs": [],
   "source": [
    "def save():\n",
    "    "
   ]
  },
  {
   "cell_type": "markdown",
   "metadata": {},
   "source": [
    "### 5. 크롤링하기"
   ]
  },
  {
   "cell_type": "code",
   "execution_count": null,
   "metadata": {},
   "outputs": [],
   "source": [
    "data = movie_title_url_actor()"
   ]
  },
  {
   "cell_type": "code",
   "execution_count": null,
   "metadata": {},
   "outputs": [],
   "source": [
    "data = insert_grades()"
   ]
  },
  {
   "cell_type": "code",
   "execution_count": null,
   "metadata": {},
   "outputs": [],
   "source": [
    "data = insert_reviews()"
   ]
  },
  {
   "cell_type": "code",
   "execution_count": null,
   "metadata": {},
   "outputs": [],
   "source": [
    "save()"
   ]
  }
 ],
 "metadata": {
  "kernelspec": {
   "display_name": "Python 3.6.5 64-bit ('base': conda)",
   "language": "python",
   "name": "python36564bitbaseconda5e4e95bad6fc48a495fff358f53d205a"
  },
  "language_info": {
   "codemirror_mode": {
    "name": "ipython",
    "version": 3
   },
   "file_extension": ".py",
   "mimetype": "text/x-python",
   "name": "python",
   "nbconvert_exporter": "python",
   "pygments_lexer": "ipython3",
   "version": "3.6.5-final"
  }
 },
 "nbformat": 4,
 "nbformat_minor": 2
}