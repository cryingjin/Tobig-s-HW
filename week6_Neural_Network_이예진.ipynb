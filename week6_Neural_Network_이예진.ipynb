{
 "cells": [
  {
   "cell_type": "code",
   "execution_count": 22,
   "metadata": {},
   "outputs": [
    {
     "name": "stdout",
     "output_type": "stream",
     "text": "[{'weights': [0.13436424411240122, 0.8474337369372327, 0.763774618976614]}]\n[{'weights': [0.2550690257394217, 0.49543508709194095]}, {'weights': [0.4494910647887381, 0.651592972722763]}]\n"
    }
   ],
   "source": [
    "from random import seed\n",
    "from random import random\n",
    "import numpy as np\n",
    " \n",
    "# 네트워크 초기 설정\n",
    "def initialize_network(n_inputs, n_hidden, n_outputs):\n",
    "    network = list()\n",
    "    hidden_layer = [{'weights':[random() for i in range(n_inputs + 1)]} for i in range(n_hidden)]    \n",
    "    # 바이어스 때문에 n+1\n",
    "    network.append(hidden_layer)\n",
    "    output_layer = [{'weights':[random() for i in range(n_hidden + 1)]} for i in range(n_outputs)]\n",
    "    network.append(output_layer)\n",
    "    return network\n",
    " \n",
    "seed(1)\n",
    "network = initialize_network(2, 1, 2)\n",
    "for layer in network:\n",
    "    print(layer)\n",
    "\n",
    "\n",
    "# input 2, hidden 1, output 1 -> 바이어스 추가해서 3,2,2"
   ]
  },
  {
   "cell_type": "code",
   "execution_count": 23,
   "metadata": {},
   "outputs": [],
   "source": [
    "def activate(weights, inputs):\n",
    "    activation = weights[-1]\n",
    "    for i in range(len(weights)-1):\n",
    "       \n",
    "        activation += weights[i]*inputs[i]      # 뒤에 바이어스 빼고 weights와 input 인자를 곱함 \n",
    "        # 순전파 진행 - 퍼셉트론과 동일하게 타우(s), s = x*w\n",
    "    return activation\n",
    "\n",
    "def sigmoid(activation):\n",
    "    return 1/(1+np.exp(-activation)) # 시그모이드 구현\n",
    "\n",
    "def forward_propagate(network, row):\n",
    "    inputs = row\n",
    "    for layer in network:\n",
    "        new_inputs = []\n",
    "        for neuron in layer:\n",
    "            activation = activate(neuron['weights'], inputs)  \n",
    "            neuron['output'] = sigmoid(activation) # 나온 계산 값을 그대로 쓰나요? 활성함수 시그모이드를 지나옴\n",
    "            \n",
    "            new_inputs.append(neuron['output']) # new_input은 다음 히든층에 들어갈 값이죠?\n",
    "        inputs = new_inputs\n",
    "    return inputs"
   ]
  },
  {
   "cell_type": "code",
   "execution_count": 24,
   "metadata": {},
   "outputs": [
    {
     "data": {
      "text/plain": "{'weights': [0.13436424411240122, 0.8474337369372327, 0.763774618976614]}"
     },
     "execution_count": 24,
     "metadata": {},
     "output_type": "execute_result"
    }
   ],
   "source": [
    "network[0][0]"
   ]
  },
  {
   "cell_type": "markdown",
   "metadata": {},
   "source": [
    "## 순전파(forward propagation)\n",
    "nn 모델의 입력층부터 출력층까지 순서대로 변수들들 계산하고 저장하는 것\n"
   ]
  },
  {
   "cell_type": "code",
   "execution_count": 26,
   "metadata": {},
   "outputs": [
    {
     "name": "stdout",
     "output_type": "stream",
     "text": "[0.6629970129852887, 0.7253160725279748]\n"
    }
   ],
   "source": [
    "seed(1)\n",
    "network = initialize_network(2, 1, 2)\n",
    "row = [1, 0, None]\n",
    "output = forward_propagate(network, row)\n",
    "print(output)"
   ]
  },
  {
   "cell_type": "markdown",
   "metadata": {},
   "source": [
    "**여기까지는 순전파 학습과정이었습니다. 이 과정이 끝나면 가중치가 바뀌나요?  \n",
    "답변을 답변의 근거 코딩 결과와 함께 보여주세요.**"
   ]
  },
  {
   "cell_type": "code",
   "execution_count": 27,
   "metadata": {},
   "outputs": [
    {
     "data": {
      "text/plain": "[[{'weights': [0.13436424411240122, 0.8474337369372327, 0.763774618976614]}],\n [{'weights': [0.2550690257394217, 0.49543508709194095]},\n  {'weights': [0.4494910647887381, 0.651592972722763]}]]"
     },
     "execution_count": 27,
     "metadata": {},
     "output_type": "execute_result"
    }
   ],
   "source": [
    "# 가중치 변화 확인\n",
    "seed(1)\n",
    "test_network = initialize_network(2,1,2)\n",
    "test_network     # 초기 가중치"
   ]
  },
  {
   "cell_type": "code",
   "execution_count": 28,
   "metadata": {},
   "outputs": [
    {
     "data": {
      "text/plain": "[[{'weights': [0.13436424411240122, 0.8474337369372327, 0.763774618976614],\n   'output': 0.7105668883115941}],\n [{'weights': [0.2550690257394217, 0.49543508709194095],\n   'output': 0.6629970129852887},\n  {'weights': [0.4494910647887381, 0.651592972722763],\n   'output': 0.7253160725279748}]]"
     },
     "execution_count": 28,
     "metadata": {},
     "output_type": "execute_result"
    }
   ],
   "source": [
    "seed(1)\n",
    "test_network = initialize_network(2,1,2)[0]\n",
    "network     # 순전파 학습 후 가중치 -> 변하지 않음."
   ]
  },
  {
   "cell_type": "code",
   "execution_count": 29,
   "metadata": {},
   "outputs": [
    {
     "name": "stdout",
     "output_type": "stream",
     "text": "[0.6629970129852887, 0.7253160725279748]\n"
    }
   ],
   "source": [
    "seed(1)\n",
    "row = [1, 0, None]\n",
    "output = forward_propagate(network, row)\n",
    "print(output)"
   ]
  },
  {
   "cell_type": "markdown",
   "metadata": {},
   "source": [
    "## 역전파(back propagation)\n",
    "nn의 파라미터들에 대한 그래디언트를 계산하는 방법.\n",
    "- 손실loss와 정규화 항목s에 대해서 목적함수 J = L + s의 그래디언트 계산\n",
    "- 출력층 o변수들에 대한 목적함수의 그래디언트를 체인룰 적용해서 구함.\n",
    "- 출력층과 가장 가까운 모델 파라미터들에 대해서 목적함수의 그래디언트 계산 가능.\n",
    "- https://ko.d2l.ai/chapter_deep-learning-basics/backprop.html"
   ]
  },
  {
   "cell_type": "code",
   "execution_count": 30,
   "metadata": {},
   "outputs": [],
   "source": [
    "def sigmoid_derivative(output):\n",
    "    return output * (1-output) # 시그모이드 미분 y(1-y)\n",
    "\n",
    "def backward_propagate_error(network, expected):\n",
    "    for i in reversed(range(len(network))):\n",
    "        layer = network[i]\n",
    "        errors = []\n",
    "        if i != len(network)-1:\n",
    "            for j in range(len(layer)):\n",
    "                error = 0.0\n",
    "                for neuron in network[i + 1]:\n",
    "                    error += (neuron['weights'][j] * neuron['delta'])\n",
    "                errors.append(error) \n",
    "        else:\n",
    "            for j in range(len(layer)):     # 처음 출력값 전 레이어\n",
    "                neuron = layer[j]\n",
    "                errors.append(expected[j]-neuron['output']) # 역전파시 오차는 어떻게 설정했나요?\n",
    "        for j in range(len(layer)):\n",
    "            neuron = layer[j]\n",
    "            neuron['delta'] = (errors[j])*sigmoid_derivative(neuron['output']) \n",
    "            # 시그모이드 함수를 사용한 역전파\n",
    "            # 델타 = (y-o)*타우미분\n",
    "\n",
    "# for문이 reversed함수 때문에 for -> else -> if 순서로 역전되서 돌아감.\n"
   ]
  },
  {
   "cell_type": "code",
   "execution_count": 31,
   "metadata": {},
   "outputs": [
    {
     "name": "stdout",
     "output_type": "stream",
     "text": "[{'weights': [0.13436424411240122, 0.8474337369372327, 0.763774618976614], 'output': 0.7105668883115941, 'delta': -0.002711797799238243}]\n[{'weights': [0.2550690257394217, 0.49543508709194095], 'output': 0.6629970129852887, 'delta': -0.14813473120687762}, {'weights': [0.4494910647887381, 0.651592972722763], 'output': 0.7253160725279748, 'delta': 0.05472601157879688}]\n"
    }
   ],
   "source": [
    "expected = [0, 1]\n",
    "\n",
    "backward_propagate_error(network, expected)\n",
    "for layer in network:\n",
    "    print(layer)"
   ]
  },
  {
   "cell_type": "code",
   "execution_count": 32,
   "metadata": {},
   "outputs": [
    {
     "name": "stdout",
     "output_type": "stream",
     "text": "[{'weights': [0.13436424411240122, 0.8474337369372327, 0.763774618976614], 'output': 0.7105668883115941, 'delta': -0.002711797799238243}]\n[{'weights': [0.2550690257394217, 0.49543508709194095], 'output': 0.6629970129852887, 'delta': -0.14813473120687762}, {'weights': [0.4494910647887381, 0.651592972722763], 'output': 0.7253160725279748, 'delta': 0.05472601157879688}]\n"
    }
   ],
   "source": [
    "expected = [0, 1]\n",
    "\n",
    "backward_propagate_error(network, expected)\n",
    "for layer in network:\n",
    "    print(layer)"
   ]
  },
  {
   "cell_type": "code",
   "execution_count": 33,
   "metadata": {},
   "outputs": [],
   "source": [
    "def weights_update(network, row, l_rate):\n",
    "    for i in range(len(network)):\n",
    "        inputs = row[:-1]\n",
    "        if i != 0:\n",
    "            inputs = [neuron['output'] for neuron in network[i - 1]]\n",
    "        for neuron in network[i]:\n",
    "            for j in range(len(inputs)):\n",
    "                neuron['weights'][j] += l_rate * neuron['delta'] * inputs[j] # 퍼셉트론 학습 규칙-델타규칙\n",
    "            neuron['weights'][-1] += l_rate * neuron['delta'] # 바이어스는 input을 1로\n",
    "            \n",
    "\n",
    "def train_network(network, train, l_rate, n_epoch, n_outputs):\n",
    "    for epoch in range(n_epoch):\n",
    "        sum_error = 0\n",
    "        for row in train:\n",
    "            outputs = forward_propagate(network,row) # 순전파 \n",
    "            expected = [0 for i in range(n_outputs)]\n",
    "            expected[row[-1]] = 1\n",
    "            sum_error += sum([(expected[i]-outputs[i])**2 for i in range(len(expected))]) # 예측값의 오차 합\n",
    "            backward_propagate_error(network, expected)\n",
    "            weights_update(network, row, l_rate)\n",
    "        print('>epoch=%d, lrate=%.3f, error=%.3f' % (epoch, l_rate, sum_error))"
   ]
  },
  {
   "cell_type": "code",
   "execution_count": 34,
   "metadata": {},
   "outputs": [],
   "source": [
    "seed(1)\n",
    "dataset = [[2.7810836,2.550537003,0],\n",
    "    [1.465489372,2.362125076,0],\n",
    "    [3.396561688,4.400293529,0],\n",
    "    [1.38807019,1.850220317,0],\n",
    "    [3.06407232,3.005305973,0],\n",
    "    [7.627531214,2.759262235,1],\n",
    "    [5.332441248,2.088626775,1],\n",
    "    [6.922596716,1.77106367,1],\n",
    "    [8.675418651,-0.242068655,1],\n",
    "    [7.673756466,3.508563011,1]]"
   ]
  },
  {
   "cell_type": "code",
   "execution_count": 35,
   "metadata": {},
   "outputs": [],
   "source": [
    "seed(1)\n",
    "dataset = [[2.7810836,2.550537003,0],\n",
    "    [1.465489372,2.362125076,0],\n",
    "    [3.396561688,4.400293529,0],\n",
    "    [1.38807019,1.850220317,0],\n",
    "    [3.06407232,3.005305973,0],\n",
    "    [7.627531214,2.759262235,1],\n",
    "    [5.332441248,2.088626775,1],\n",
    "    [6.922596716,1.77106367,1],\n",
    "    [8.675418651,-0.242068655,1],\n",
    "    [7.673756466,3.508563011,1]]"
   ]
  },
  {
   "cell_type": "code",
   "execution_count": 44,
   "metadata": {},
   "outputs": [
    {
     "name": "stdout",
     "output_type": "stream",
     "text": ">epoch=0, lrate=0.500, error=6.414\n>epoch=1, lrate=0.500, error=5.672\n>epoch=2, lrate=0.500, error=5.322\n>epoch=3, lrate=0.500, error=5.290\n>epoch=4, lrate=0.500, error=5.317\n>epoch=5, lrate=0.500, error=5.336\n>epoch=6, lrate=0.500, error=5.344\n>epoch=7, lrate=0.500, error=5.346\n>epoch=8, lrate=0.500, error=5.345\n>epoch=9, lrate=0.500, error=5.341\n>epoch=10, lrate=0.500, error=5.336\n>epoch=11, lrate=0.500, error=5.329\n>epoch=12, lrate=0.500, error=5.320\n>epoch=13, lrate=0.500, error=5.308\n>epoch=14, lrate=0.500, error=5.293\n>epoch=15, lrate=0.500, error=5.270\n>epoch=16, lrate=0.500, error=5.237\n>epoch=17, lrate=0.500, error=5.187\n>epoch=18, lrate=0.500, error=5.107\n>epoch=19, lrate=0.500, error=4.985\n>epoch=20, lrate=0.500, error=4.814\n>epoch=21, lrate=0.500, error=4.592\n>epoch=22, lrate=0.500, error=4.308\n>epoch=23, lrate=0.500, error=3.949\n>epoch=24, lrate=0.500, error=3.542\n>epoch=25, lrate=0.500, error=3.143\n>epoch=26, lrate=0.500, error=2.763\n>epoch=27, lrate=0.500, error=2.410\n>epoch=28, lrate=0.500, error=2.093\n>epoch=29, lrate=0.500, error=1.815\n>epoch=30, lrate=0.500, error=1.578\n>epoch=31, lrate=0.500, error=1.378\n>epoch=32, lrate=0.500, error=1.210\n>epoch=33, lrate=0.500, error=1.069\n>epoch=34, lrate=0.500, error=0.950\n>epoch=35, lrate=0.500, error=0.850\n>epoch=36, lrate=0.500, error=0.766\n>epoch=37, lrate=0.500, error=0.694\n>epoch=38, lrate=0.500, error=0.633\n>epoch=39, lrate=0.500, error=0.580\n>epoch=40, lrate=0.500, error=0.534\n>epoch=41, lrate=0.500, error=0.493\n>epoch=42, lrate=0.500, error=0.458\n>epoch=43, lrate=0.500, error=0.427\n>epoch=44, lrate=0.500, error=0.400\n>epoch=45, lrate=0.500, error=0.375\n>epoch=46, lrate=0.500, error=0.353\n>epoch=47, lrate=0.500, error=0.333\n>epoch=48, lrate=0.500, error=0.315\n>epoch=49, lrate=0.500, error=0.299\n>epoch=50, lrate=0.500, error=0.284\n>epoch=51, lrate=0.500, error=0.271\n>epoch=52, lrate=0.500, error=0.258\n>epoch=53, lrate=0.500, error=0.247\n>epoch=54, lrate=0.500, error=0.236\n>epoch=55, lrate=0.500, error=0.227\n>epoch=56, lrate=0.500, error=0.218\n>epoch=57, lrate=0.500, error=0.209\n>epoch=58, lrate=0.500, error=0.201\n>epoch=59, lrate=0.500, error=0.194\n>epoch=60, lrate=0.500, error=0.187\n>epoch=61, lrate=0.500, error=0.181\n>epoch=62, lrate=0.500, error=0.175\n>epoch=63, lrate=0.500, error=0.169\n>epoch=64, lrate=0.500, error=0.164\n>epoch=65, lrate=0.500, error=0.159\n>epoch=66, lrate=0.500, error=0.154\n>epoch=67, lrate=0.500, error=0.150\n>epoch=68, lrate=0.500, error=0.146\n>epoch=69, lrate=0.500, error=0.142\n>epoch=70, lrate=0.500, error=0.138\n>epoch=71, lrate=0.500, error=0.134\n>epoch=72, lrate=0.500, error=0.131\n>epoch=73, lrate=0.500, error=0.127\n>epoch=74, lrate=0.500, error=0.124\n>epoch=75, lrate=0.500, error=0.121\n>epoch=76, lrate=0.500, error=0.118\n>epoch=77, lrate=0.500, error=0.116\n>epoch=78, lrate=0.500, error=0.113\n>epoch=79, lrate=0.500, error=0.111\n>epoch=80, lrate=0.500, error=0.108\n>epoch=81, lrate=0.500, error=0.106\n>epoch=82, lrate=0.500, error=0.104\n>epoch=83, lrate=0.500, error=0.101\n>epoch=84, lrate=0.500, error=0.099\n>epoch=85, lrate=0.500, error=0.097\n>epoch=86, lrate=0.500, error=0.096\n>epoch=87, lrate=0.500, error=0.094\n>epoch=88, lrate=0.500, error=0.092\n>epoch=89, lrate=0.500, error=0.090\n>epoch=90, lrate=0.500, error=0.089\n>epoch=91, lrate=0.500, error=0.087\n>epoch=92, lrate=0.500, error=0.086\n>epoch=93, lrate=0.500, error=0.084\n>epoch=94, lrate=0.500, error=0.083\n>epoch=95, lrate=0.500, error=0.081\n>epoch=96, lrate=0.500, error=0.080\n>epoch=97, lrate=0.500, error=0.079\n>epoch=98, lrate=0.500, error=0.077\n>epoch=99, lrate=0.500, error=0.076\n"
    }
   ],
   "source": [
    "n_inputs = len(dataset[0])-1 # 뉴럴렛의 입력노드로 뭐가 들어가죠? 그럼 입력 노드의 개수는?\n",
    "n_outputs = 2 # 뉴럴렛의 출력노드의 개수는 뭐라고 했죠? \n",
    "network = initialize_network(n_inputs, 2, n_outputs)\n",
    "train_network(network, dataset, 0.5, 100, n_outputs) # 자유롭게 설정하고 최적을 찾아보세요.\n",
    "\n",
    "# 학습된(최적화)된 네트워크가 초기 네트워크와 달리 어떻게 변하였는지 출력하시오. (layer별로,hint : for문))\n"
   ]
  },
  {
   "cell_type": "code",
   "execution_count": 45,
   "metadata": {},
   "outputs": [
    {
     "name": "stdout",
     "output_type": "stream",
     "text": "[{'weights': [-1.3341665869601682, 1.7507045557940508, 1.1248841983420608], 'output': 0.05039717066028191, 'delta': -0.0009590275195105367}, {'weights': [1.6566837629670637, -2.494145776285515, -0.6463864214038534], 'output': 0.9637491937143909, 'delta': 0.0009796655350391295}]\n[{'weights': [2.6164708539696493, -3.358089232102404, 0.4467736751054617], 'output': 0.06575403376730371, 'delta': -0.004039299279402648}, {'weights': [-2.3589742557405047, 3.6101498875859224, -0.6992643229307567], 'output': 0.93445659065289, 'delta': 0.0040143680526277285}]\n"
    }
   ],
   "source": [
    "# 학습된(최적화)된 네트워크가 초기 네트워크와 달리 어떻게 변하였는지 출력하시오. (layer별로,hint : for문))\n",
    "for layer in network:\n",
    "    print(layer)"
   ]
  },
  {
   "cell_type": "code",
   "execution_count": 64,
   "metadata": {},
   "outputs": [],
   "source": [
    "# 학습한 네트워크로 예측값을 뽑아보자.\n",
    "\n",
    "def predict(network, row):\n",
    "    outputs = forward_propagate(network, row)\n",
    "    return outputs.index(max(outputs)) # 순전파 결과에서 어떤것이 최종 아웃풋이 되나요? 아웃풋을 최대화 시키는 곳의 위치반환 0아니면 1임."
   ]
  },
  {
   "cell_type": "code",
   "execution_count": 62,
   "metadata": {},
   "outputs": [
    {
     "data": {
      "text/plain": "[0.0650054833233608, 0.935194562007408]"
     },
     "execution_count": 62,
     "metadata": {},
     "output_type": "execute_result"
    }
   ],
   "source": [
    "# forward_propagate(network, row)"
   ]
  },
  {
   "cell_type": "code",
   "execution_count": 65,
   "metadata": {},
   "outputs": [
    {
     "name": "stdout",
     "output_type": "stream",
     "text": "실제값=0, 예측값=0\n실제값=0, 예측값=0\n실제값=0, 예측값=0\n실제값=0, 예측값=0\n실제값=0, 예측값=0\n실제값=1, 예측값=1\n실제값=1, 예측값=1\n실제값=1, 예측값=1\n실제값=1, 예측값=1\n실제값=1, 예측값=1\n"
    }
   ],
   "source": [
    "# 네트워크가 잘 학습되었는지 확인해보자. \n",
    "\n",
    "for row in dataset:\n",
    "    prediction = predict(network,row) # 앞서 최적(학습)시킨 네트워크로 잘 학습되었는지 평가 \n",
    "\n",
    "    print('실제값=%d, 예측값=%d' % (row[-1], prediction)) # row 마지막이 타켓, 실제값\n"
   ]
  }
 ],
 "metadata": {
  "kernelspec": {
   "display_name": "Python 3.6.5 64-bit ('base': conda)",
   "language": "python",
   "name": "python36564bitbaseconda5e4e95bad6fc48a495fff358f53d205a"
  },
  "language_info": {
   "codemirror_mode": {
    "name": "ipython",
    "version": 3
   },
   "file_extension": ".py",
   "mimetype": "text/x-python",
   "name": "python",
   "nbconvert_exporter": "python",
   "pygments_lexer": "ipython3",
   "version": "3.6.5-final"
  }
 },
 "nbformat": 4,
 "nbformat_minor": 2
}