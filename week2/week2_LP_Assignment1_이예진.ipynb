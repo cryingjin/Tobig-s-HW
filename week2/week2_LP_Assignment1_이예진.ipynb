{
 "cells": [
  {
   "cell_type": "markdown",
   "metadata": {},
   "source": [
    "# Assignment1 과제 설명\n",
    "## Classification Metrics\n",
    "- 1. 주어진 데이터 (sampled_data.csv)에 대해 로지스틱 회귀모형 적합해보고, Mean Accuracy 찍어보기 -> sklearn\n",
    "- 2. Confusion Matrix 찍어보기 -> Mean Accuracy와 비교\n",
    "- 3. 최적의 Cut-off를 ROC 커브 사용해서 찾아보기, 새로운 cut off로 예측을 다시 진행하여 성능 평가 진행"
   ]
  },
  {
   "cell_type": "code",
   "execution_count": 2,
   "metadata": {},
   "outputs": [],
   "source": [
    "import pandas as pd\n",
    "import numpy as np"
   ]
  },
  {
   "cell_type": "code",
   "execution_count": 3,
   "metadata": {},
   "outputs": [
    {
     "data": {
      "text/plain": [
       "Time      0\n",
       "V1        0\n",
       "V2        0\n",
       "V3        0\n",
       "V4        0\n",
       "V5        0\n",
       "V6        0\n",
       "V7        0\n",
       "V8        0\n",
       "V9        0\n",
       "V10       0\n",
       "V11       0\n",
       "V12       0\n",
       "V13       0\n",
       "V14       0\n",
       "V15       0\n",
       "V16       0\n",
       "V17       0\n",
       "V18       0\n",
       "V19       0\n",
       "V20       0\n",
       "V21       0\n",
       "V22       0\n",
       "V23       0\n",
       "V24       0\n",
       "V25       0\n",
       "V26       0\n",
       "V27       0\n",
       "V28       0\n",
       "Amount    0\n",
       "Class     0\n",
       "dtype: int64"
      ]
     },
     "execution_count": 3,
     "metadata": {},
     "output_type": "execute_result"
    }
   ],
   "source": [
    "data = pd.read_csv(\"sampled_data.csv\")\n",
    "data.isnull().sum(axis=0)"
   ]
  },
  {
   "cell_type": "code",
   "execution_count": 4,
   "metadata": {},
   "outputs": [
    {
     "data": {
      "text/html": [
       "<div>\n",
       "<style scoped>\n",
       "    .dataframe tbody tr th:only-of-type {\n",
       "        vertical-align: middle;\n",
       "    }\n",
       "\n",
       "    .dataframe tbody tr th {\n",
       "        vertical-align: top;\n",
       "    }\n",
       "\n",
       "    .dataframe thead th {\n",
       "        text-align: right;\n",
       "    }\n",
       "</style>\n",
       "<table border=\"1\" class=\"dataframe\">\n",
       "  <thead>\n",
       "    <tr style=\"text-align: right;\">\n",
       "      <th></th>\n",
       "      <th>Time</th>\n",
       "      <th>V1</th>\n",
       "      <th>V2</th>\n",
       "      <th>V3</th>\n",
       "      <th>V4</th>\n",
       "      <th>V5</th>\n",
       "      <th>V6</th>\n",
       "      <th>V7</th>\n",
       "      <th>V8</th>\n",
       "      <th>V9</th>\n",
       "      <th>...</th>\n",
       "      <th>V21</th>\n",
       "      <th>V22</th>\n",
       "      <th>V23</th>\n",
       "      <th>V24</th>\n",
       "      <th>V25</th>\n",
       "      <th>V26</th>\n",
       "      <th>V27</th>\n",
       "      <th>V28</th>\n",
       "      <th>Amount</th>\n",
       "      <th>Class</th>\n",
       "    </tr>\n",
       "  </thead>\n",
       "  <tbody>\n",
       "    <tr>\n",
       "      <th>0</th>\n",
       "      <td>136330</td>\n",
       "      <td>2.108286</td>\n",
       "      <td>-0.020359</td>\n",
       "      <td>-2.234273</td>\n",
       "      <td>-0.124080</td>\n",
       "      <td>0.559843</td>\n",
       "      <td>-1.315913</td>\n",
       "      <td>0.631887</td>\n",
       "      <td>-0.385490</td>\n",
       "      <td>0.150628</td>\n",
       "      <td>...</td>\n",
       "      <td>0.162940</td>\n",
       "      <td>0.519705</td>\n",
       "      <td>-0.091751</td>\n",
       "      <td>-0.379542</td>\n",
       "      <td>0.418822</td>\n",
       "      <td>0.248646</td>\n",
       "      <td>-0.098857</td>\n",
       "      <td>-0.094773</td>\n",
       "      <td>7.70</td>\n",
       "      <td>0</td>\n",
       "    </tr>\n",
       "    <tr>\n",
       "      <th>1</th>\n",
       "      <td>116819</td>\n",
       "      <td>2.080143</td>\n",
       "      <td>-0.075408</td>\n",
       "      <td>-1.359381</td>\n",
       "      <td>0.261263</td>\n",
       "      <td>0.232201</td>\n",
       "      <td>-0.797886</td>\n",
       "      <td>0.233487</td>\n",
       "      <td>-0.330165</td>\n",
       "      <td>0.493154</td>\n",
       "      <td>...</td>\n",
       "      <td>-0.317765</td>\n",
       "      <td>-0.784150</td>\n",
       "      <td>0.233078</td>\n",
       "      <td>-0.636937</td>\n",
       "      <td>-0.191137</td>\n",
       "      <td>0.234986</td>\n",
       "      <td>-0.070648</td>\n",
       "      <td>-0.062794</td>\n",
       "      <td>17.99</td>\n",
       "      <td>0</td>\n",
       "    </tr>\n",
       "    <tr>\n",
       "      <th>2</th>\n",
       "      <td>27917</td>\n",
       "      <td>1.152650</td>\n",
       "      <td>0.204938</td>\n",
       "      <td>0.441832</td>\n",
       "      <td>1.211595</td>\n",
       "      <td>-0.254895</td>\n",
       "      <td>-0.383380</td>\n",
       "      <td>-0.004286</td>\n",
       "      <td>-0.019590</td>\n",
       "      <td>0.085094</td>\n",
       "      <td>...</td>\n",
       "      <td>0.066674</td>\n",
       "      <td>0.209828</td>\n",
       "      <td>-0.054351</td>\n",
       "      <td>0.058103</td>\n",
       "      <td>0.515330</td>\n",
       "      <td>-0.299402</td>\n",
       "      <td>0.032551</td>\n",
       "      <td>0.022865</td>\n",
       "      <td>21.00</td>\n",
       "      <td>0</td>\n",
       "    </tr>\n",
       "    <tr>\n",
       "      <th>3</th>\n",
       "      <td>97443</td>\n",
       "      <td>-0.389692</td>\n",
       "      <td>0.410148</td>\n",
       "      <td>0.616187</td>\n",
       "      <td>-0.686644</td>\n",
       "      <td>1.040312</td>\n",
       "      <td>-0.322199</td>\n",
       "      <td>0.523625</td>\n",
       "      <td>-0.037453</td>\n",
       "      <td>1.319237</td>\n",
       "      <td>...</td>\n",
       "      <td>0.116692</td>\n",
       "      <td>0.685267</td>\n",
       "      <td>-0.182303</td>\n",
       "      <td>0.767857</td>\n",
       "      <td>-0.242738</td>\n",
       "      <td>0.009678</td>\n",
       "      <td>0.115370</td>\n",
       "      <td>0.176041</td>\n",
       "      <td>6.60</td>\n",
       "      <td>0</td>\n",
       "    </tr>\n",
       "    <tr>\n",
       "      <th>4</th>\n",
       "      <td>17920</td>\n",
       "      <td>-1.306986</td>\n",
       "      <td>0.183306</td>\n",
       "      <td>3.164803</td>\n",
       "      <td>0.810135</td>\n",
       "      <td>1.529576</td>\n",
       "      <td>2.388322</td>\n",
       "      <td>0.551279</td>\n",
       "      <td>-0.054401</td>\n",
       "      <td>1.675481</td>\n",
       "      <td>...</td>\n",
       "      <td>-0.203993</td>\n",
       "      <td>0.556523</td>\n",
       "      <td>0.146513</td>\n",
       "      <td>-1.128693</td>\n",
       "      <td>-0.633623</td>\n",
       "      <td>-0.454903</td>\n",
       "      <td>-0.826329</td>\n",
       "      <td>-0.826186</td>\n",
       "      <td>4.95</td>\n",
       "      <td>0</td>\n",
       "    </tr>\n",
       "  </tbody>\n",
       "</table>\n",
       "<p>5 rows × 31 columns</p>\n",
       "</div>"
      ],
      "text/plain": [
       "     Time        V1        V2        V3        V4        V5        V6  \\\n",
       "0  136330  2.108286 -0.020359 -2.234273 -0.124080  0.559843 -1.315913   \n",
       "1  116819  2.080143 -0.075408 -1.359381  0.261263  0.232201 -0.797886   \n",
       "2   27917  1.152650  0.204938  0.441832  1.211595 -0.254895 -0.383380   \n",
       "3   97443 -0.389692  0.410148  0.616187 -0.686644  1.040312 -0.322199   \n",
       "4   17920 -1.306986  0.183306  3.164803  0.810135  1.529576  2.388322   \n",
       "\n",
       "         V7        V8        V9  ...         V21       V22       V23  \\\n",
       "0  0.631887 -0.385490  0.150628  ...    0.162940  0.519705 -0.091751   \n",
       "1  0.233487 -0.330165  0.493154  ...   -0.317765 -0.784150  0.233078   \n",
       "2 -0.004286 -0.019590  0.085094  ...    0.066674  0.209828 -0.054351   \n",
       "3  0.523625 -0.037453  1.319237  ...    0.116692  0.685267 -0.182303   \n",
       "4  0.551279 -0.054401  1.675481  ...   -0.203993  0.556523  0.146513   \n",
       "\n",
       "        V24       V25       V26       V27       V28  Amount  Class  \n",
       "0 -0.379542  0.418822  0.248646 -0.098857 -0.094773    7.70      0  \n",
       "1 -0.636937 -0.191137  0.234986 -0.070648 -0.062794   17.99      0  \n",
       "2  0.058103  0.515330 -0.299402  0.032551  0.022865   21.00      0  \n",
       "3  0.767857 -0.242738  0.009678  0.115370  0.176041    6.60      0  \n",
       "4 -1.128693 -0.633623 -0.454903 -0.826329 -0.826186    4.95      0  \n",
       "\n",
       "[5 rows x 31 columns]"
      ]
     },
     "execution_count": 4,
     "metadata": {},
     "output_type": "execute_result"
    }
   ],
   "source": [
    "df = pd.DataFrame(data)\n",
    "df.head(5)"
   ]
  },
  {
   "cell_type": "code",
   "execution_count": 5,
   "metadata": {},
   "outputs": [
    {
     "data": {
      "text/plain": [
       "Index(['Time', 'V1', 'V2', 'V3', 'V4', 'V5', 'V6', 'V7', 'V8', 'V9', 'V10',\n",
       "       'V11', 'V12', 'V13', 'V14', 'V15', 'V16', 'V17', 'V18', 'V19', 'V20',\n",
       "       'V21', 'V22', 'V23', 'V24', 'V25', 'V26', 'V27', 'V28', 'Amount',\n",
       "       'Class'],\n",
       "      dtype='object')"
      ]
     },
     "execution_count": 5,
     "metadata": {},
     "output_type": "execute_result"
    }
   ],
   "source": [
    "df.columns"
   ]
  },
  {
   "cell_type": "markdown",
   "metadata": {},
   "source": [
    "\"\"\"\n",
    "데이터 스케일링은 train test split 다음에 하셔야 합니다!  \n",
    "트레인셋 테스트셋 분리 이전에 데이터 스케일링을 한다면  \n",
    "테스트셋의 정보가 스케일링 시에 반영이 되기 때문입니다!  \n",
    "과제 진행 시 참고해주세요.\n",
    "\"\"\""
   ]
  },
  {
   "cell_type": "code",
   "execution_count": 6,
   "metadata": {},
   "outputs": [
    {
     "data": {
      "text/plain": [
       "0    28428\n",
       "1       52\n",
       "Name: Class, dtype: int64"
      ]
     },
     "execution_count": 6,
     "metadata": {},
     "output_type": "execute_result"
    }
   ],
   "source": [
    "target = df['Class']\n",
    "target.value_counts()"
   ]
  },
  {
   "cell_type": "markdown",
   "metadata": {},
   "source": [
    "### Logistic Regression\n",
    "1. sklearn 불러옴\n",
    "2. train test split\n",
    "3. train -> test , class 예측\n",
    "4. scaling\n",
    "5. 스케일 버전train -> test , class 예측\n",
    "5. Mean Accuracy\n"
   ]
  },
  {
   "cell_type": "code",
   "execution_count": 7,
   "metadata": {},
   "outputs": [],
   "source": [
    "from sklearn.linear_model import LogisticRegression\n",
    "from sklearn.model_selection import train_test_split"
   ]
  },
  {
   "cell_type": "markdown",
   "metadata": {},
   "source": [
    "train -> test, calss 예측  \n",
    "Mean Accuracy"
   ]
  },
  {
   "cell_type": "code",
   "execution_count": 8,
   "metadata": {},
   "outputs": [],
   "source": [
    "X_train,X_test,y_train,y_test = train_test_split(df.iloc[:, :-1], df.iloc[:, -1], random_state = 0)"
   ]
  },
  {
   "cell_type": "code",
   "execution_count": 9,
   "metadata": {},
   "outputs": [
    {
     "data": {
      "text/plain": [
       "((21360, 30), (7120, 30), (21360,), (7120,))"
      ]
     },
     "execution_count": 9,
     "metadata": {},
     "output_type": "execute_result"
    }
   ],
   "source": [
    "X_train.shape,X_test.shape,y_train.shape,y_test.shape"
   ]
  },
  {
   "cell_type": "code",
   "execution_count": 10,
   "metadata": {},
   "outputs": [
    {
     "name": "stderr",
     "output_type": "stream",
     "text": [
      "C:\\Users\\jinji\\Anaconda3\\lib\\site-packages\\sklearn\\linear_model\\_logistic.py:940: ConvergenceWarning: lbfgs failed to converge (status=1):\n",
      "STOP: TOTAL NO. of ITERATIONS REACHED LIMIT.\n",
      "\n",
      "Increase the number of iterations (max_iter) or scale the data as shown in:\n",
      "    https://scikit-learn.org/stable/modules/preprocessing.html\n",
      "Please also refer to the documentation for alternative solver options:\n",
      "    https://scikit-learn.org/stable/modules/linear_model.html#logistic-regression\n",
      "  extra_warning_msg=_LOGISTIC_SOLVER_CONVERGENCE_MSG)\n"
     ]
    },
    {
     "data": {
      "text/plain": [
       "LogisticRegression(C=1.0, class_weight=None, dual=False, fit_intercept=True,\n",
       "                   intercept_scaling=1, l1_ratio=None, max_iter=100,\n",
       "                   multi_class='auto', n_jobs=None, penalty='l2',\n",
       "                   random_state=None, solver='lbfgs', tol=0.0001, verbose=0,\n",
       "                   warm_start=False)"
      ]
     },
     "execution_count": 10,
     "metadata": {},
     "output_type": "execute_result"
    }
   ],
   "source": [
    "classifier = LogisticRegression()\n",
    "classifier.fit(X_train,y_train)"
   ]
  },
  {
   "cell_type": "code",
   "execution_count": 11,
   "metadata": {},
   "outputs": [
    {
     "data": {
      "text/plain": [
       "array([0, 0, 0, ..., 0, 0, 0], dtype=int64)"
      ]
     },
     "execution_count": 11,
     "metadata": {},
     "output_type": "execute_result"
    }
   ],
   "source": [
    "y_pred = classifier.predict(X_test)\n",
    "y_pred"
   ]
  },
  {
   "cell_type": "code",
   "execution_count": 12,
   "metadata": {},
   "outputs": [
    {
     "data": {
      "text/plain": [
       "0.999438202247191"
      ]
     },
     "execution_count": 12,
     "metadata": {},
     "output_type": "execute_result"
    }
   ],
   "source": [
    "# Mean Accuracy\n",
    "classifier.score(X_test,y_test)"
   ]
  },
  {
   "cell_type": "markdown",
   "metadata": {},
   "source": [
    "scaled train,test split  \n",
    "train -> test 예측"
   ]
  },
  {
   "cell_type": "code",
   "execution_count": 13,
   "metadata": {},
   "outputs": [],
   "source": [
    "from sklearn.preprocessing import StandardScaler"
   ]
  },
  {
   "cell_type": "code",
   "execution_count": 45,
   "metadata": {},
   "outputs": [
    {
     "data": {
      "text/plain": [
       "((21360, 30), (7120, 30), (21360,), (7120,))"
      ]
     },
     "execution_count": 45,
     "metadata": {},
     "output_type": "execute_result"
    }
   ],
   "source": [
    "# train,test split\n",
    "X2_train, X2_test, y2_train, y2_test = train_test_split(df.iloc[:, :-1], df.iloc[:, -1], random_state = 0)\n",
    "X2_train.shape,X2_test.shape,y2_train.shape,y2_test.shape"
   ]
  },
  {
   "cell_type": "code",
   "execution_count": 46,
   "metadata": {},
   "outputs": [
    {
     "data": {
      "text/html": [
       "<div>\n",
       "<style scoped>\n",
       "    .dataframe tbody tr th:only-of-type {\n",
       "        vertical-align: middle;\n",
       "    }\n",
       "\n",
       "    .dataframe tbody tr th {\n",
       "        vertical-align: top;\n",
       "    }\n",
       "\n",
       "    .dataframe thead th {\n",
       "        text-align: right;\n",
       "    }\n",
       "</style>\n",
       "<table border=\"1\" class=\"dataframe\">\n",
       "  <thead>\n",
       "    <tr style=\"text-align: right;\">\n",
       "      <th></th>\n",
       "      <th>Time</th>\n",
       "      <th>V1</th>\n",
       "      <th>V2</th>\n",
       "      <th>V3</th>\n",
       "      <th>V4</th>\n",
       "      <th>V5</th>\n",
       "      <th>V6</th>\n",
       "      <th>V7</th>\n",
       "      <th>V8</th>\n",
       "      <th>V9</th>\n",
       "      <th>...</th>\n",
       "      <th>V20</th>\n",
       "      <th>V21</th>\n",
       "      <th>V22</th>\n",
       "      <th>V23</th>\n",
       "      <th>V24</th>\n",
       "      <th>V25</th>\n",
       "      <th>V26</th>\n",
       "      <th>V27</th>\n",
       "      <th>V28</th>\n",
       "      <th>Amount</th>\n",
       "    </tr>\n",
       "  </thead>\n",
       "  <tbody>\n",
       "    <tr>\n",
       "      <th>8000</th>\n",
       "      <td>40450</td>\n",
       "      <td>1.131228</td>\n",
       "      <td>-1.612728</td>\n",
       "      <td>0.658765</td>\n",
       "      <td>-1.364990</td>\n",
       "      <td>-1.712647</td>\n",
       "      <td>0.045033</td>\n",
       "      <td>-1.215284</td>\n",
       "      <td>0.085225</td>\n",
       "      <td>-1.930448</td>\n",
       "      <td>...</td>\n",
       "      <td>-0.020626</td>\n",
       "      <td>0.111172</td>\n",
       "      <td>0.420707</td>\n",
       "      <td>-0.116693</td>\n",
       "      <td>0.027197</td>\n",
       "      <td>0.196221</td>\n",
       "      <td>-0.107498</td>\n",
       "      <td>0.039437</td>\n",
       "      <td>0.039779</td>\n",
       "      <td>158.00</td>\n",
       "    </tr>\n",
       "    <tr>\n",
       "      <th>14004</th>\n",
       "      <td>164219</td>\n",
       "      <td>2.086565</td>\n",
       "      <td>0.104547</td>\n",
       "      <td>-1.340502</td>\n",
       "      <td>0.319618</td>\n",
       "      <td>0.163126</td>\n",
       "      <td>-1.251715</td>\n",
       "      <td>0.352600</td>\n",
       "      <td>-0.479160</td>\n",
       "      <td>0.388456</td>\n",
       "      <td>...</td>\n",
       "      <td>-0.149764</td>\n",
       "      <td>0.251621</td>\n",
       "      <td>0.967181</td>\n",
       "      <td>-0.035153</td>\n",
       "      <td>-0.033537</td>\n",
       "      <td>0.336976</td>\n",
       "      <td>-0.106266</td>\n",
       "      <td>-0.010242</td>\n",
       "      <td>-0.057136</td>\n",
       "      <td>1.00</td>\n",
       "    </tr>\n",
       "    <tr>\n",
       "      <th>7628</th>\n",
       "      <td>130962</td>\n",
       "      <td>1.841639</td>\n",
       "      <td>-1.002806</td>\n",
       "      <td>-0.718181</td>\n",
       "      <td>0.136236</td>\n",
       "      <td>0.074779</td>\n",
       "      <td>2.046166</td>\n",
       "      <td>-1.184891</td>\n",
       "      <td>0.644623</td>\n",
       "      <td>-0.383715</td>\n",
       "      <td>...</td>\n",
       "      <td>-0.599734</td>\n",
       "      <td>-0.368793</td>\n",
       "      <td>-0.622324</td>\n",
       "      <td>0.422341</td>\n",
       "      <td>-1.073885</td>\n",
       "      <td>-0.672641</td>\n",
       "      <td>-0.845913</td>\n",
       "      <td>0.108824</td>\n",
       "      <td>-0.030317</td>\n",
       "      <td>64.00</td>\n",
       "    </tr>\n",
       "    <tr>\n",
       "      <th>10725</th>\n",
       "      <td>171923</td>\n",
       "      <td>0.747710</td>\n",
       "      <td>0.745767</td>\n",
       "      <td>-1.857361</td>\n",
       "      <td>-0.555697</td>\n",
       "      <td>1.008044</td>\n",
       "      <td>-0.035079</td>\n",
       "      <td>-0.253724</td>\n",
       "      <td>-2.849674</td>\n",
       "      <td>-0.600436</td>\n",
       "      <td>...</td>\n",
       "      <td>0.419393</td>\n",
       "      <td>-1.124999</td>\n",
       "      <td>0.843768</td>\n",
       "      <td>-0.080762</td>\n",
       "      <td>0.253989</td>\n",
       "      <td>0.606719</td>\n",
       "      <td>0.618415</td>\n",
       "      <td>-0.027468</td>\n",
       "      <td>0.163375</td>\n",
       "      <td>0.76</td>\n",
       "    </tr>\n",
       "    <tr>\n",
       "      <th>4266</th>\n",
       "      <td>161506</td>\n",
       "      <td>2.013512</td>\n",
       "      <td>-0.182635</td>\n",
       "      <td>-1.028844</td>\n",
       "      <td>0.333376</td>\n",
       "      <td>-0.237616</td>\n",
       "      <td>-0.971287</td>\n",
       "      <td>0.001305</td>\n",
       "      <td>-0.125545</td>\n",
       "      <td>0.457117</td>\n",
       "      <td>...</td>\n",
       "      <td>-0.294818</td>\n",
       "      <td>-0.245713</td>\n",
       "      <td>-0.667236</td>\n",
       "      <td>0.354399</td>\n",
       "      <td>0.044589</td>\n",
       "      <td>-0.381213</td>\n",
       "      <td>0.176797</td>\n",
       "      <td>-0.082116</td>\n",
       "      <td>-0.071885</td>\n",
       "      <td>0.99</td>\n",
       "    </tr>\n",
       "  </tbody>\n",
       "</table>\n",
       "<p>5 rows × 30 columns</p>\n",
       "</div>"
      ],
      "text/plain": [
       "         Time        V1        V2        V3        V4        V5        V6  \\\n",
       "8000    40450  1.131228 -1.612728  0.658765 -1.364990 -1.712647  0.045033   \n",
       "14004  164219  2.086565  0.104547 -1.340502  0.319618  0.163126 -1.251715   \n",
       "7628   130962  1.841639 -1.002806 -0.718181  0.136236  0.074779  2.046166   \n",
       "10725  171923  0.747710  0.745767 -1.857361 -0.555697  1.008044 -0.035079   \n",
       "4266   161506  2.013512 -0.182635 -1.028844  0.333376 -0.237616 -0.971287   \n",
       "\n",
       "             V7        V8        V9   ...         V20       V21       V22  \\\n",
       "8000  -1.215284  0.085225 -1.930448   ...   -0.020626  0.111172  0.420707   \n",
       "14004  0.352600 -0.479160  0.388456   ...   -0.149764  0.251621  0.967181   \n",
       "7628  -1.184891  0.644623 -0.383715   ...   -0.599734 -0.368793 -0.622324   \n",
       "10725 -0.253724 -2.849674 -0.600436   ...    0.419393 -1.124999  0.843768   \n",
       "4266   0.001305 -0.125545  0.457117   ...   -0.294818 -0.245713 -0.667236   \n",
       "\n",
       "            V23       V24       V25       V26       V27       V28  Amount  \n",
       "8000  -0.116693  0.027197  0.196221 -0.107498  0.039437  0.039779  158.00  \n",
       "14004 -0.035153 -0.033537  0.336976 -0.106266 -0.010242 -0.057136    1.00  \n",
       "7628   0.422341 -1.073885 -0.672641 -0.845913  0.108824 -0.030317   64.00  \n",
       "10725 -0.080762  0.253989  0.606719  0.618415 -0.027468  0.163375    0.76  \n",
       "4266   0.354399  0.044589 -0.381213  0.176797 -0.082116 -0.071885    0.99  \n",
       "\n",
       "[5 rows x 30 columns]"
      ]
     },
     "execution_count": 46,
     "metadata": {},
     "output_type": "execute_result"
    }
   ],
   "source": [
    "X2_train.head()"
   ]
  },
  {
   "cell_type": "code",
   "execution_count": 47,
   "metadata": {},
   "outputs": [
    {
     "data": {
      "text/plain": [
       "array([[ 0.87599191,  1.10227326, -0.01383661, ..., -0.29889867,\n",
       "        -0.34162683, -0.04276894],\n",
       "       [ 0.46599202,  1.08762774, -0.04747727, ..., -0.19381068,\n",
       "        -0.29798293, -0.04276894],\n",
       "       [-1.4021752 ,  0.60496356,  0.12384231, ...,  0.08768119,\n",
       "        -0.28521635, -0.04276894],\n",
       "       ...,\n",
       "       [-0.42810237, -1.77186915, -0.42136644, ..., -0.90645255,\n",
       "         0.37580428, -0.04276894],\n",
       "       [ 0.90608364,  0.67055034, -1.06901447, ...,  0.00759972,\n",
       "         1.21623571, -0.04276894],\n",
       "       [-1.90993121,  0.72058018, -0.22056932, ...,  0.07781589,\n",
       "        -0.25934387, -0.04276894]])"
      ]
     },
     "execution_count": 47,
     "metadata": {},
     "output_type": "execute_result"
    }
   ],
   "source": [
    "# Scaling\n",
    "scaler = StandardScaler()\n",
    "scaler.fit_transform(df)"
   ]
  },
  {
   "cell_type": "code",
   "execution_count": 48,
   "metadata": {},
   "outputs": [],
   "source": [
    "X2_train = scaler.fit_transform(X2_train)\n",
    "X2_test = scaler.fit_transform(X2_test)   \n",
    "y2_train = y_train\n",
    "y2_test = y_test"
   ]
  },
  {
   "cell_type": "code",
   "execution_count": 49,
   "metadata": {},
   "outputs": [
    {
     "data": {
      "text/plain": [
       "LogisticRegression(C=1.0, class_weight=None, dual=False, fit_intercept=True,\n",
       "                   intercept_scaling=1, l1_ratio=None, max_iter=100,\n",
       "                   multi_class='auto', n_jobs=None, penalty='l2',\n",
       "                   random_state=None, solver='lbfgs', tol=0.0001, verbose=0,\n",
       "                   warm_start=False)"
      ]
     },
     "execution_count": 49,
     "metadata": {},
     "output_type": "execute_result"
    }
   ],
   "source": [
    "classifier2 = LogisticRegression()\n",
    "classifier2.fit(X2_train, y2_train)"
   ]
  },
  {
   "cell_type": "code",
   "execution_count": 50,
   "metadata": {},
   "outputs": [
    {
     "data": {
      "text/plain": [
       "array([0, 0, 0, ..., 0, 0, 0], dtype=int64)"
      ]
     },
     "execution_count": 50,
     "metadata": {},
     "output_type": "execute_result"
    }
   ],
   "source": [
    "y_pred2 = classifier2.predict(X2_test)\n",
    "y_pred2"
   ]
  },
  {
   "cell_type": "code",
   "execution_count": 51,
   "metadata": {},
   "outputs": [
    {
     "data": {
      "text/plain": [
       "0.9998595505617978"
      ]
     },
     "execution_count": 51,
     "metadata": {},
     "output_type": "execute_result"
    }
   ],
   "source": [
    "# Mean Accuracy\n",
    "classifier2.score(X2_test,y2_test)\n",
    "# 0.998876404494382 스케일 전 보다 떨어짐"
   ]
  },
  {
   "cell_type": "markdown",
   "metadata": {},
   "source": [
    "target데이터가 편향되어 있음.  \n",
    "처음부터 0으로 분류되는 class가 1로 분류되는 것 보다 앞도적으로 적기 때문에 mean  accuracy가 높게 나옴"
   ]
  },
  {
   "cell_type": "markdown",
   "metadata": {},
   "source": [
    "***"
   ]
  },
  {
   "cell_type": "markdown",
   "metadata": {},
   "source": [
    "### Confusion Matrix 찍어서 Mean accuracy 와 비교\n",
    "1. 스케일 전 데이터로 Confusion Matrix\n",
    "2. 스케일 후 데이터로 Confusion Matrix\n"
   ]
  },
  {
   "cell_type": "code",
   "execution_count": 52,
   "metadata": {},
   "outputs": [],
   "source": [
    "from sklearn.metrics import *"
   ]
  },
  {
   "cell_type": "markdown",
   "metadata": {},
   "source": [
    "스케일 전 데이터"
   ]
  },
  {
   "cell_type": "code",
   "execution_count": 53,
   "metadata": {},
   "outputs": [
    {
     "data": {
      "text/plain": [
       "0.7999999999999999"
      ]
     },
     "execution_count": 53,
     "metadata": {},
     "output_type": "execute_result"
    }
   ],
   "source": [
    "# f1_score\n",
    "f1_score(y_test,y_pred)"
   ]
  },
  {
   "cell_type": "code",
   "execution_count": 54,
   "metadata": {},
   "outputs": [
    {
     "data": {
      "text/plain": [
       "array([[7108,    3],\n",
       "       [   1,    8]], dtype=int64)"
      ]
     },
     "execution_count": 54,
     "metadata": {},
     "output_type": "execute_result"
    }
   ],
   "source": [
    "# confusion matrix\n",
    "confusion_matrix(y_test,y_pred)"
   ]
  },
  {
   "cell_type": "markdown",
   "metadata": {},
   "source": [
    "스케일 후 데이터"
   ]
  },
  {
   "cell_type": "code",
   "execution_count": 55,
   "metadata": {},
   "outputs": [
    {
     "data": {
      "text/plain": [
       "0.9411764705882353"
      ]
     },
     "execution_count": 55,
     "metadata": {},
     "output_type": "execute_result"
    }
   ],
   "source": [
    "# f1_score\n",
    "f1_score(y2_test,y_pred2)"
   ]
  },
  {
   "cell_type": "code",
   "execution_count": 56,
   "metadata": {},
   "outputs": [
    {
     "data": {
      "text/plain": [
       "array([[7111,    0],\n",
       "       [   1,    8]], dtype=int64)"
      ]
     },
     "execution_count": 56,
     "metadata": {},
     "output_type": "execute_result"
    }
   ],
   "source": [
    "# confusion matrix\n",
    "confusion_matrix(y2_test,y_pred2)"
   ]
  },
  {
   "cell_type": "markdown",
   "metadata": {},
   "source": [
    "스케일 후에 비슷한 Mean Accuracy와 다르게  \n",
    "f1 score는 눈에 띄게 증가함  \n",
    "Precision과 Recall이 더 균형을 이루게 되었다는 것을 의미"
   ]
  },
  {
   "cell_type": "markdown",
   "metadata": {},
   "source": [
    "***"
   ]
  },
  {
   "cell_type": "markdown",
   "metadata": {},
   "source": [
    "### ROC curve\n",
    "ROC 커브를 그려보고 다양한 cut-off 를 찾아보기\n",
    "1. ROC 커브 그려보기\n",
    "2. cut-off 찾아보기\n",
    "3. 새로운 cut-off 사용한 성능평가"
   ]
  },
  {
   "cell_type": "markdown",
   "metadata": {},
   "source": [
    "스케일 전 데이터 X_train,X_test,y_train,y_test"
   ]
  },
  {
   "cell_type": "code",
   "execution_count": 57,
   "metadata": {},
   "outputs": [],
   "source": [
    "import matplotlib.pyplot as plt\n",
    "%matplotlib inline"
   ]
  },
  {
   "cell_type": "code",
   "execution_count": 58,
   "metadata": {},
   "outputs": [
    {
     "data": {
      "text/plain": [
       "(array([0.00000000e+00, 0.00000000e+00, 0.00000000e+00, 1.40627197e-04,\n",
       "        1.40627197e-04, 1.96878076e-03, 1.96878076e-03, 2.85191956e-01,\n",
       "        2.85473211e-01, 1.00000000e+00]),\n",
       " array([0.        , 0.11111111, 0.55555556, 0.55555556, 0.88888889,\n",
       "        0.88888889, 1.        , 1.        , 1.        , 1.        ]),\n",
       " array([ 41.27417984,  40.27417984,   3.87704057,   2.80943753,\n",
       "          0.40090711,  -0.72081621,  -0.74031682,  -7.26505232,\n",
       "         -7.26725605, -51.71523114]))"
      ]
     },
     "execution_count": 58,
     "metadata": {},
     "output_type": "execute_result"
    }
   ],
   "source": [
    "fpr, tpr, thresholds = roc_curve(y_test, classifier.decision_function(X_test))\n",
    "# 순서대로 fpr, tpr, thresholds를 리턴함!\n",
    "# fpr = 1-specificity\n",
    "# tpr = sensitivity\n",
    "# thresholds = 해당 fpr, tpr을 리턴할 때의 thesholds(cut-off) 값!\n",
    "fpr, tpr, thresholds"
   ]
  },
  {
   "cell_type": "code",
   "execution_count": 37,
   "metadata": {},
   "outputs": [
    {
     "data": {
      "text/plain": [
       "Text(0,0.5,'Sensitivity')"
      ]
     },
     "execution_count": 37,
     "metadata": {},
     "output_type": "execute_result"
    },
    {
     "data": {
      "image/png": "[encoded data removed]",
      "text/plain": [
       "<Figure size 432x288 with 1 Axes>"
      ]
     },
     "metadata": {},
     "output_type": "display_data"
    }
   ],
   "source": [
    "x = fpr\n",
    "y = tpr\n",
    "\n",
    "plt.plot(x,y,'o-')\n",
    "plt.xlabel('1-Specificity')\n",
    "plt.ylabel('Sensitivity')"
   ]
  },
  {
   "cell_type": "code",
   "execution_count": 59,
   "metadata": {},
   "outputs": [
    {
     "data": {
      "text/plain": [
       "0.9997343708495444"
      ]
     },
     "execution_count": 59,
     "metadata": {},
     "output_type": "execute_result"
    }
   ],
   "source": [
    "# auc_score 계산\n",
    "roc_auc_score(y_test, classifier.decision_function(X_test)) "
   ]
  },
  {
   "cell_type": "code",
   "execution_count": 60,
   "metadata": {},
   "outputs": [
    {
     "data": {
      "text/plain": [
       "[[0.0, 0.0, 41.27417984123457],\n",
       " [0.0, 0.1111111111111111, 40.27417984123457],\n",
       " [0.0, 0.5555555555555556, 3.8770405722294985],\n",
       " [0.0001406271972999578, 0.5555555555555556, 2.8094375307939234],\n",
       " [0.0001406271972999578, 0.8888888888888888, 0.40090710565230525],\n",
       " [0.0019687807621994093, 0.8888888888888888, -0.720816210142835],\n",
       " [0.0019687807621994093, 1.0, -0.7403168231382475],\n",
       " [0.2851919561243144, 1.0, -7.265052319923138],\n",
       " [0.28547321051891433, 1.0, -7.267256054183926],\n",
       " [1.0, 1.0, -51.71523113553752]]"
      ]
     },
     "execution_count": 60,
     "metadata": {},
     "output_type": "execute_result"
    }
   ],
   "source": [
    "res = [[fpr_i, tpr_i, thres_i] for fpr_i, tpr_i, thres_i in zip(fpr, tpr, thresholds)]\n",
    "res"
   ]
  },
  {
   "cell_type": "markdown",
   "metadata": {},
   "source": [
    "스케일 후 데이터 X2_train,X2_test,y2_train,y2_test"
   ]
  },
  {
   "cell_type": "code",
   "execution_count": 61,
   "metadata": {},
   "outputs": [
    {
     "data": {
      "text/plain": [
       "(array([0.00000000e+00, 0.00000000e+00, 0.00000000e+00, 8.43763184e-04,\n",
       "        8.43763184e-04, 4.26803544e-01, 4.27084798e-01, 1.00000000e+00]),\n",
       " array([0.        , 0.11111111, 0.88888889, 0.88888889, 1.        ,\n",
       "        1.        , 1.        , 1.        ]),\n",
       " array([ 18.2294302 ,  17.2294302 ,   2.0668131 ,  -2.82565249,\n",
       "         -2.87550041,  -8.59973489,  -8.6009032 , -21.4020649 ]))"
      ]
     },
     "execution_count": 61,
     "metadata": {},
     "output_type": "execute_result"
    }
   ],
   "source": [
    "fpr2, tpr2, thresholds2 = roc_curve(y2_test, classifier2.decision_function(X2_test))\n",
    "# 순서대로 fpr, tpr, thresholds를 리턴함!\n",
    "# fpr = 1-specificity\n",
    "# tpr = sensitivity\n",
    "# thresholds = 해당 fpr, tpr을 리턴할 때의 thesholds(cut-off) 값!\n",
    "fpr2, tpr2, thresholds2"
   ]
  },
  {
   "cell_type": "code",
   "execution_count": 62,
   "metadata": {},
   "outputs": [
    {
     "name": "stdout",
     "output_type": "stream",
     "text": [
      "(array([0.00000000e+00, 0.00000000e+00, 0.00000000e+00, 8.43763184e-04,\n",
      "       8.43763184e-04, 4.26803544e-01, 4.27084798e-01, 1.00000000e+00]), array([0.        , 0.11111111, 0.88888889, 0.88888889, 1.        ,\n",
      "       1.        , 1.        , 1.        ]), array([ 18.2294302 ,  17.2294302 ,   2.0668131 ,  -2.82565249,\n",
      "        -2.87550041,  -8.59973489,  -8.6009032 , -21.4020649 ]))\n"
     ]
    }
   ],
   "source": [
    "print(roc_curve(y2_test, classifier2.decision_function(X2_test)))"
   ]
  },
  {
   "cell_type": "code",
   "execution_count": 63,
   "metadata": {},
   "outputs": [
    {
     "data": {
      "text/plain": [
       "Text(0,0.5,'Sensitivity')"
      ]
     },
     "execution_count": 63,
     "metadata": {},
     "output_type": "execute_result"
    },
    {
     "data": {
      "image/png": "[encoded data removed]",
      "text/plain": [
       "<Figure size 432x288 with 1 Axes>"
      ]
     },
     "metadata": {},
     "output_type": "display_data"
    }
   ],
   "source": [
    "x2 = fpr2\n",
    "y2 = tpr2\n",
    "\n",
    "plt.plot(x2,y2,'o-')\n",
    "plt.xlabel('1-Specificity')\n",
    "plt.ylabel('Sensitivity')"
   ]
  },
  {
   "cell_type": "code",
   "execution_count": 36,
   "metadata": {},
   "outputs": [
    {
     "data": {
      "text/plain": [
       "0.999890623290989"
      ]
     },
     "execution_count": 36,
     "metadata": {},
     "output_type": "execute_result"
    }
   ],
   "source": [
    "# auc_score 계산\n",
    "roc_auc_score(y2_test, classifier2.decision_function(X2_test)) "
   ]
  },
  {
   "cell_type": "code",
   "execution_count": 37,
   "metadata": {},
   "outputs": [
    {
     "data": {
      "text/plain": [
       "[[0.0, 0.0, 17.664415155436778],\n",
       " [0.0, 0.1111111111111111, 16.664415155436778],\n",
       " [0.0, 0.8888888888888888, 1.4815648507290593],\n",
       " [0.0009843903810997047, 0.8888888888888888, -2.7080441214288786],\n",
       " [0.0009843903810997047, 1.0, -3.036155345052485],\n",
       " [0.43327239488117003, 1.0, -8.731408430454325],\n",
       " [0.43355364927576995, 1.0, -8.731506877840456],\n",
       " [1.0, 1.0, -21.602388323185103]]"
      ]
     },
     "execution_count": 37,
     "metadata": {},
     "output_type": "execute_result"
    }
   ],
   "source": [
    "res = [[fpr_i, tpr_i, thres_i] for fpr_i, tpr_i, thres_i in zip(fpr2, tpr2, thresholds2)]\n",
    "res"
   ]
  },
  {
   "cell_type": "code",
   "execution_count": 43,
   "metadata": {},
   "outputs": [
    {
     "data": {
      "text/plain": [
       "<sklearn.metrics._plot.roc_curve.RocCurveDisplay at 0x1a512e06518>"
      ]
     },
     "execution_count": 43,
     "metadata": {},
     "output_type": "execute_result"
    },
    {
     "data": {
      "image/png": "[encoded data removed]",
      "text/plain": [
       "<Figure size 432x288 with 1 Axes>"
      ]
     },
     "metadata": {},
     "output_type": "display_data"
    }
   ],
   "source": [
    "plot_roc_curve(classifier, X_test, y_test, response_method = 'decision_function')"
   ]
  },
  {
   "cell_type": "code",
   "execution_count": 44,
   "metadata": {},
   "outputs": [
    {
     "data": {
      "text/plain": [
       "<sklearn.metrics._plot.roc_curve.RocCurveDisplay at 0x1a50f733080>"
      ]
     },
     "execution_count": 44,
     "metadata": {},
     "output_type": "execute_result"
    },
    {
     "data": {
      "image/png": "[encoded data removed]",
      "text/plain": [
       "<Figure size 432x288 with 1 Axes>"
      ]
     },
     "metadata": {},
     "output_type": "display_data"
    }
   ],
   "source": [
    "plot_roc_curve(classifier2, X2_test, y2_test, response_method = 'decision_function')"
   ]
  },
  {
   "cell_type": "markdown",
   "metadata": {},
   "source": [
    "AUC가 1이 나오면 안되는 것도 다 알겠는데. 방법을 못찾겠어서 제출 합니다...  \n",
    "스케일링 안했던 데이터는 원래 AUC가 1이 아닌 ROC커브를 그렸었는데 이것도 여러번 하니 1로 되어 버렸습니다...  \n",
    "thresholds를 cut off 로 조정해서 cut off 를 찾아야하는 것도 알겠는데 그럼 따로 roc_curve()함수를 쓰지 말고 하이퍼파라미터를 직접 넣어주는 함수를 짜서 조정해야하나요,,?"
   ]
  }
 ],
 "metadata": {
  "kernelspec": {
   "display_name": "Python 3",
   "language": "python",
   "name": "python3"
  },
  "language_info": {
   "codemirror_mode": {
    "name": "ipython",
    "version": 3
   },
   "file_extension": ".py",
   "mimetype": "text/x-python",
   "name": "python",
   "nbconvert_exporter": "python",
   "pygments_lexer": "ipython3",
   "version": "3.6.5"
  }
 },
 "nbformat": 4,
 "nbformat_minor": 2
}
